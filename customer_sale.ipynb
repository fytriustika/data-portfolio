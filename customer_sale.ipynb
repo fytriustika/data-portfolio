{
  "nbformat": 4,
  "nbformat_minor": 0,
  "metadata": {
    "colab": {
      "provenance": []
    },
    "kernelspec": {
      "name": "python3",
      "display_name": "Python 3"
    },
    "language_info": {
      "name": "python"
    }
  },
  "cells": [
    {
      "cell_type": "code",
      "execution_count": null,
      "metadata": {
        "id": "hM9KR-ylEJ6v"
      },
      "outputs": [],
      "source": []
    },
    {
      "cell_type": "markdown",
      "metadata": {
        "id": "3be5e946"
      },
      "source": [
        "Anda dapat menyambungkan Google Drive Anda ke Google Colab untuk mengakses file Anda.\n",
        "\n",
        "Jalankan kode berikut di sel kode baru:"
      ]
    },
    {
      "cell_type": "code",
      "metadata": {
        "colab": {
          "base_uri": "https://localhost:8080/"
        },
        "id": "5cc1e08b",
        "outputId": "f0674a40-378e-48c2-d544-a88929ae5887"
      },
      "source": [
        "from google.colab import drive\n",
        "drive.mount('/content/drive')"
      ],
      "execution_count": null,
      "outputs": [
        {
          "output_type": "stream",
          "name": "stdout",
          "text": [
            "Mounted at /content/drive\n"
          ]
        }
      ]
    },
    {
      "cell_type": "code",
      "source": [
        "import pandas as pd\n",
        "import numpy as np\n",
        "import matplotlib.pyplot as plt\n",
        "import seaborn as sns\n",
        "\n",
        "data = pd.read_csv('/content/drive/MyDrive/customer_sale.csv')\n",
        "print(data.head())"
      ],
      "metadata": {
        "colab": {
          "base_uri": "https://localhost:8080/"
        },
        "id": "_eEpVBmhQpYi",
        "outputId": "28a75ef8-3511-4d1b-8ecc-282845d7e134"
      },
      "execution_count": null,
      "outputs": [
        {
          "output_type": "stream",
          "name": "stdout",
          "text": [
            "     Customer Name Purchase Date Product Category    Sale  Quantity  \\\n",
            "0     Allison Hill    2025-02-04      Electronics  372.07         1   \n",
            "1    Megan Mcclain    2025-01-14            Books  369.55         3   \n",
            "2   Allen Robinson    2025-03-20        Groceries   19.75         1   \n",
            "3  Cristian Santos    2025-03-27            Books  303.00         9   \n",
            "4    Kevin Pacheco    2025-01-02        Groceries  227.36         4   \n",
            "\n",
            "   Discount Applied  Purchase Year  Purchase Month  Purchase Day   Price  \n",
            "0              True           2025               2             1  241.07  \n",
            "1              True           2025               1             1  103.55  \n",
            "2              True           2025               3             3   16.75  \n",
            "3              True           2025               3             3   83.00  \n",
            "4             False           2025               1             3   78.36  \n"
          ]
        }
      ]
    },
    {
      "cell_type": "markdown",
      "metadata": {
        "id": "bcddbc65"
      },
      "source": [
        "# Task\n",
        "Lakukan pembersihan data pada dataframe yang sudah dimuat di Google Colab."
      ]
    },
    {
      "cell_type": "markdown",
      "metadata": {
        "id": "19b697f8"
      },
      "source": [
        "## Periksa informasi data\n",
        "\n",
        "### Subtask:\n",
        "Periksa tipe data, nilai non-null, dan penggunaan memori.\n"
      ]
    },
    {
      "cell_type": "markdown",
      "metadata": {
        "id": "7512d68a"
      },
      "source": [
        "**Reasoning**:\n",
        "Display the summary information of the dataframe including data types, non-null values, and memory usage.\n",
        "\n"
      ]
    },
    {
      "cell_type": "code",
      "metadata": {
        "colab": {
          "base_uri": "https://localhost:8080/"
        },
        "id": "a059a47f",
        "outputId": "1bb38b14-f433-4d98-f1ed-f84c9c9066db"
      },
      "source": [
        "data.info()"
      ],
      "execution_count": null,
      "outputs": [
        {
          "output_type": "stream",
          "name": "stdout",
          "text": [
            "<class 'pandas.core.frame.DataFrame'>\n",
            "RangeIndex: 1000 entries, 0 to 999\n",
            "Data columns (total 10 columns):\n",
            " #   Column            Non-Null Count  Dtype  \n",
            "---  ------            --------------  -----  \n",
            " 0   Customer Name     1000 non-null   object \n",
            " 1   Purchase Date     1000 non-null   object \n",
            " 2   Product Category  1000 non-null   object \n",
            " 3   Sale              1000 non-null   float64\n",
            " 4   Quantity          1000 non-null   int64  \n",
            " 5   Discount Applied  1000 non-null   bool   \n",
            " 6   Purchase Year     1000 non-null   int64  \n",
            " 7   Purchase Month    1000 non-null   int64  \n",
            " 8   Purchase Day      1000 non-null   int64  \n",
            " 9   Price             1000 non-null   float64\n",
            "dtypes: bool(1), float64(2), int64(4), object(3)\n",
            "memory usage: 71.4+ KB\n"
          ]
        }
      ]
    },
    {
      "cell_type": "markdown",
      "metadata": {
        "id": "8ff8eae6"
      },
      "source": [
        "## Periksa nilai yang hilang\n",
        "\n",
        "### Subtask:\n",
        "Identifikasi kolom dengan nilai yang hilang dan jumlahnya.\n"
      ]
    },
    {
      "cell_type": "markdown",
      "metadata": {
        "id": "fe2ca8b3"
      },
      "source": [
        "**Reasoning**:\n",
        "Identify columns with missing values and their counts using the isnull() and sum() methods.\n",
        "\n"
      ]
    },
    {
      "cell_type": "code",
      "metadata": {
        "colab": {
          "base_uri": "https://localhost:8080/",
          "height": 398
        },
        "id": "71ac6738",
        "outputId": "382ab322-bc87-4c43-899c-e673912381fb"
      },
      "source": [
        "missing_values = data.isnull().sum()\n",
        "display(missing_values)"
      ],
      "execution_count": null,
      "outputs": [
        {
          "output_type": "display_data",
          "data": {
            "text/plain": [
              "Customer Name       0\n",
              "Purchase Date       0\n",
              "Product Category    0\n",
              "Sale                0\n",
              "Quantity            0\n",
              "Discount Applied    0\n",
              "Purchase Year       0\n",
              "Purchase Month      0\n",
              "Purchase Day        0\n",
              "Price               0\n",
              "dtype: int64"
            ],
            "text/html": [
              "<div>\n",
              "<style scoped>\n",
              "    .dataframe tbody tr th:only-of-type {\n",
              "        vertical-align: middle;\n",
              "    }\n",
              "\n",
              "    .dataframe tbody tr th {\n",
              "        vertical-align: top;\n",
              "    }\n",
              "\n",
              "    .dataframe thead th {\n",
              "        text-align: right;\n",
              "    }\n",
              "</style>\n",
              "<table border=\"1\" class=\"dataframe\">\n",
              "  <thead>\n",
              "    <tr style=\"text-align: right;\">\n",
              "      <th></th>\n",
              "      <th>0</th>\n",
              "    </tr>\n",
              "  </thead>\n",
              "  <tbody>\n",
              "    <tr>\n",
              "      <th>Customer Name</th>\n",
              "      <td>0</td>\n",
              "    </tr>\n",
              "    <tr>\n",
              "      <th>Purchase Date</th>\n",
              "      <td>0</td>\n",
              "    </tr>\n",
              "    <tr>\n",
              "      <th>Product Category</th>\n",
              "      <td>0</td>\n",
              "    </tr>\n",
              "    <tr>\n",
              "      <th>Sale</th>\n",
              "      <td>0</td>\n",
              "    </tr>\n",
              "    <tr>\n",
              "      <th>Quantity</th>\n",
              "      <td>0</td>\n",
              "    </tr>\n",
              "    <tr>\n",
              "      <th>Discount Applied</th>\n",
              "      <td>0</td>\n",
              "    </tr>\n",
              "    <tr>\n",
              "      <th>Purchase Year</th>\n",
              "      <td>0</td>\n",
              "    </tr>\n",
              "    <tr>\n",
              "      <th>Purchase Month</th>\n",
              "      <td>0</td>\n",
              "    </tr>\n",
              "    <tr>\n",
              "      <th>Purchase Day</th>\n",
              "      <td>0</td>\n",
              "    </tr>\n",
              "    <tr>\n",
              "      <th>Price</th>\n",
              "      <td>0</td>\n",
              "    </tr>\n",
              "  </tbody>\n",
              "</table>\n",
              "</div><br><label><b>dtype:</b> int64</label>"
            ]
          },
          "metadata": {}
        }
      ]
    },
    {
      "cell_type": "markdown",
      "metadata": {
        "id": "f91f1e0c"
      },
      "source": [
        "## Tangani nilai yang hilang\n",
        "\n",
        "### Subtask:\n",
        "Tentukan strategi untuk menangani nilai yang hilang (misalnya, menghapus baris/kolom, mengisi dengan nilai tertentu).\n"
      ]
    },
    {
      "cell_type": "markdown",
      "metadata": {
        "id": "6b14a5ed"
      },
      "source": [
        "## Periksa duplikat\n",
        "\n",
        "### Subtask:\n",
        "Identifikasi dan tangani baris duplikat.\n"
      ]
    },
    {
      "cell_type": "markdown",
      "metadata": {
        "id": "431cfded"
      },
      "source": [
        "**Reasoning**:\n",
        "Check for duplicate rows and remove them if they exist. Then verify the removal.\n",
        "\n"
      ]
    },
    {
      "cell_type": "code",
      "metadata": {
        "colab": {
          "base_uri": "https://localhost:8080/"
        },
        "id": "aa0e5ee5",
        "outputId": "d4c1d6a5-ab6f-4ead-d49d-b145aba2c22d"
      },
      "source": [
        "print(f\"Jumlah baris sebelum menghapus duplikat: {len(data)}\")\n",
        "data.drop_duplicates(inplace=True)\n",
        "print(f\"Jumlah baris setelah menghapus duplikat: {len(data)}\")"
      ],
      "execution_count": null,
      "outputs": [
        {
          "output_type": "stream",
          "name": "stdout",
          "text": [
            "Jumlah baris sebelum menghapus duplikat: 1000\n",
            "Jumlah baris setelah menghapus duplikat: 1000\n"
          ]
        }
      ]
    },
    {
      "cell_type": "markdown",
      "metadata": {
        "id": "5e0c2e4a"
      },
      "source": [
        "## Periksa tipe data\n",
        "\n",
        "### Subtask:\n",
        "Pastikan tipe data sudah benar untuk setiap kolom. Konversi jika diperlukan.\n"
      ]
    },
    {
      "cell_type": "markdown",
      "metadata": {
        "id": "d7382ca6"
      },
      "source": [
        "**Reasoning**:\n",
        "Periksa tipe data setiap kolom dan konversi kolom 'Purchase Date' ke tipe datetime.\n",
        "\n"
      ]
    },
    {
      "cell_type": "code",
      "metadata": {
        "colab": {
          "base_uri": "https://localhost:8080/",
          "height": 830
        },
        "id": "4f098abd",
        "outputId": "754ccdb4-9f48-4aae-960d-36ae23f73adf"
      },
      "source": [
        "print(\"Tipe data sebelum konversi:\")\n",
        "display(data.dtypes)\n",
        "\n",
        "data['Purchase Date'] = pd.to_datetime(data['Purchase Date'])\n",
        "\n",
        "print(\"\\nTipe data setelah konversi:\")\n",
        "display(data.dtypes)"
      ],
      "execution_count": null,
      "outputs": [
        {
          "output_type": "stream",
          "name": "stdout",
          "text": [
            "Tipe data sebelum konversi:\n"
          ]
        },
        {
          "output_type": "display_data",
          "data": {
            "text/plain": [
              "Customer Name        object\n",
              "Purchase Date        object\n",
              "Product Category     object\n",
              "Sale                float64\n",
              "Quantity              int64\n",
              "Discount Applied       bool\n",
              "Purchase Year         int64\n",
              "Purchase Month        int64\n",
              "Purchase Day          int64\n",
              "Price               float64\n",
              "dtype: object"
            ],
            "text/html": [
              "<div>\n",
              "<style scoped>\n",
              "    .dataframe tbody tr th:only-of-type {\n",
              "        vertical-align: middle;\n",
              "    }\n",
              "\n",
              "    .dataframe tbody tr th {\n",
              "        vertical-align: top;\n",
              "    }\n",
              "\n",
              "    .dataframe thead th {\n",
              "        text-align: right;\n",
              "    }\n",
              "</style>\n",
              "<table border=\"1\" class=\"dataframe\">\n",
              "  <thead>\n",
              "    <tr style=\"text-align: right;\">\n",
              "      <th></th>\n",
              "      <th>0</th>\n",
              "    </tr>\n",
              "  </thead>\n",
              "  <tbody>\n",
              "    <tr>\n",
              "      <th>Customer Name</th>\n",
              "      <td>object</td>\n",
              "    </tr>\n",
              "    <tr>\n",
              "      <th>Purchase Date</th>\n",
              "      <td>object</td>\n",
              "    </tr>\n",
              "    <tr>\n",
              "      <th>Product Category</th>\n",
              "      <td>object</td>\n",
              "    </tr>\n",
              "    <tr>\n",
              "      <th>Sale</th>\n",
              "      <td>float64</td>\n",
              "    </tr>\n",
              "    <tr>\n",
              "      <th>Quantity</th>\n",
              "      <td>int64</td>\n",
              "    </tr>\n",
              "    <tr>\n",
              "      <th>Discount Applied</th>\n",
              "      <td>bool</td>\n",
              "    </tr>\n",
              "    <tr>\n",
              "      <th>Purchase Year</th>\n",
              "      <td>int64</td>\n",
              "    </tr>\n",
              "    <tr>\n",
              "      <th>Purchase Month</th>\n",
              "      <td>int64</td>\n",
              "    </tr>\n",
              "    <tr>\n",
              "      <th>Purchase Day</th>\n",
              "      <td>int64</td>\n",
              "    </tr>\n",
              "    <tr>\n",
              "      <th>Price</th>\n",
              "      <td>float64</td>\n",
              "    </tr>\n",
              "  </tbody>\n",
              "</table>\n",
              "</div><br><label><b>dtype:</b> object</label>"
            ]
          },
          "metadata": {}
        },
        {
          "output_type": "stream",
          "name": "stdout",
          "text": [
            "\n",
            "Tipe data setelah konversi:\n"
          ]
        },
        {
          "output_type": "display_data",
          "data": {
            "text/plain": [
              "Customer Name               object\n",
              "Purchase Date       datetime64[ns]\n",
              "Product Category            object\n",
              "Sale                       float64\n",
              "Quantity                     int64\n",
              "Discount Applied              bool\n",
              "Purchase Year                int64\n",
              "Purchase Month               int64\n",
              "Purchase Day                 int64\n",
              "Price                      float64\n",
              "dtype: object"
            ],
            "text/html": [
              "<div>\n",
              "<style scoped>\n",
              "    .dataframe tbody tr th:only-of-type {\n",
              "        vertical-align: middle;\n",
              "    }\n",
              "\n",
              "    .dataframe tbody tr th {\n",
              "        vertical-align: top;\n",
              "    }\n",
              "\n",
              "    .dataframe thead th {\n",
              "        text-align: right;\n",
              "    }\n",
              "</style>\n",
              "<table border=\"1\" class=\"dataframe\">\n",
              "  <thead>\n",
              "    <tr style=\"text-align: right;\">\n",
              "      <th></th>\n",
              "      <th>0</th>\n",
              "    </tr>\n",
              "  </thead>\n",
              "  <tbody>\n",
              "    <tr>\n",
              "      <th>Customer Name</th>\n",
              "      <td>object</td>\n",
              "    </tr>\n",
              "    <tr>\n",
              "      <th>Purchase Date</th>\n",
              "      <td>datetime64[ns]</td>\n",
              "    </tr>\n",
              "    <tr>\n",
              "      <th>Product Category</th>\n",
              "      <td>object</td>\n",
              "    </tr>\n",
              "    <tr>\n",
              "      <th>Sale</th>\n",
              "      <td>float64</td>\n",
              "    </tr>\n",
              "    <tr>\n",
              "      <th>Quantity</th>\n",
              "      <td>int64</td>\n",
              "    </tr>\n",
              "    <tr>\n",
              "      <th>Discount Applied</th>\n",
              "      <td>bool</td>\n",
              "    </tr>\n",
              "    <tr>\n",
              "      <th>Purchase Year</th>\n",
              "      <td>int64</td>\n",
              "    </tr>\n",
              "    <tr>\n",
              "      <th>Purchase Month</th>\n",
              "      <td>int64</td>\n",
              "    </tr>\n",
              "    <tr>\n",
              "      <th>Purchase Day</th>\n",
              "      <td>int64</td>\n",
              "    </tr>\n",
              "    <tr>\n",
              "      <th>Price</th>\n",
              "      <td>float64</td>\n",
              "    </tr>\n",
              "  </tbody>\n",
              "</table>\n",
              "</div><br><label><b>dtype:</b> object</label>"
            ]
          },
          "metadata": {}
        }
      ]
    },
    {
      "cell_type": "markdown",
      "metadata": {
        "id": "30b3ec9c"
      },
      "source": [
        "## Periksa nilai outlier\n",
        "\n",
        "### Subtask:\n",
        "Identifikasi dan tangani nilai outlier jika ada.\n"
      ]
    },
    {
      "cell_type": "markdown",
      "metadata": {
        "id": "c841bafc"
      },
      "source": [
        "**Reasoning**:\n",
        "Create box plots for the numerical columns 'Sale', 'Quantity', and 'Price' to visualize potential outliers.\n",
        "\n"
      ]
    },
    {
      "cell_type": "code",
      "metadata": {
        "colab": {
          "base_uri": "https://localhost:8080/",
          "height": 507
        },
        "id": "b5ee0f88",
        "outputId": "146737c3-ee67-479b-9359-84280e2b7a70"
      },
      "source": [
        "numerical_cols = ['Sale', 'Quantity', 'Price']\n",
        "plt.figure(figsize=(15, 5))\n",
        "\n",
        "for i, col in enumerate(numerical_cols):\n",
        "    plt.subplot(1, 3, i + 1)\n",
        "    sns.boxplot(y=data[col])\n",
        "    plt.title(f'Box plot of {col}')\n",
        "    plt.ylabel(col)\n",
        "\n",
        "plt.tight_layout()\n",
        "plt.show()"
      ],
      "execution_count": null,
      "outputs": [
        {
          "output_type": "display_data",
          "data": {
            "text/plain": [
              "<Figure size 1500x500 with 3 Axes>"
            ],
            "image/png": "[encoded data removed]"
          },
          "metadata": {}
        }
      ]
    },
    {
      "cell_type": "markdown",
      "metadata": {
        "id": "6a814c08"
      },
      "source": [
        "## Summary:\n",
        "\n",
        "### Data Analysis Key Findings\n",
        "\n",
        "*   The dataset contains 1000 entries and 10 columns with a mix of data types including `object`, `float64`, `int64`, and `bool`.\n",
        "*   There are no missing values in the dataset, as indicated by 1000 non-null values for each column.\n",
        "*   No duplicate rows were found in the dataset; the row count remained at 1000 after checking for duplicates.\n",
        "*   The 'Purchase Date' column was successfully converted from the `object` data type to the `datetime64[ns]` data type.\n",
        "*   Potential outliers were identified in the numerical columns 'Sale', 'Quantity', and 'Price' through the visualization of box plots.\n",
        "\n",
        "### Insights or Next Steps\n",
        "\n",
        "*   While no missing values or duplicates were found, potential outliers were identified in key numerical columns. The next step should involve determining an appropriate strategy to handle these outliers to ensure they don't skew further analysis.\n",
        "*   With the 'Purchase Date' column correctly formatted as a datetime object, temporal analysis based on purchase dates can now be performed.\n"
      ]
    },
    {
      "cell_type": "markdown",
      "metadata": {
        "id": "f1b2adfd"
      },
      "source": [
        "# Task\n",
        "Lakukan analisis data eksplorasi (EDA) pada dataset penjualan. EDA harus mencakup statistik deskriptif, analisis penjualan total per bulan, identifikasi produk teratas, dan segmentasi pelanggan dasar."
      ]
    },
    {
      "cell_type": "markdown",
      "metadata": {
        "id": "fcf5b2ea"
      },
      "source": [
        "## Statistik deskriptif\n",
        "\n",
        "### Subtask:\n",
        "Hitung statistik deskriptif untuk kolom numerik dan kategorikal.\n"
      ]
    },
    {
      "cell_type": "markdown",
      "metadata": {
        "id": "300c7ab5"
      },
      "source": [
        "**Reasoning**:\n",
        "Calculate and display descriptive statistics for both numerical and categorical columns in the dataframe.\n",
        "\n"
      ]
    },
    {
      "cell_type": "code",
      "metadata": {
        "colab": {
          "base_uri": "https://localhost:8080/",
          "height": 510
        },
        "id": "29e11a50",
        "outputId": "41c1e955-88a8-431c-deeb-9892a54c5432"
      },
      "source": [
        "print(\"Statistik Deskriptif untuk Kolom Numerik:\")\n",
        "display(data.describe())\n",
        "\n",
        "print(\"\\nStatistik Deskriptif untuk Kolom Kategorikal:\")\n",
        "display(data.describe(include='object'))"
      ],
      "execution_count": null,
      "outputs": [
        {
          "output_type": "stream",
          "name": "stdout",
          "text": [
            "Statistik Deskriptif untuk Kolom Numerik:\n"
          ]
        },
        {
          "output_type": "display_data",
          "data": {
            "text/plain": [
              "                       Purchase Date         Sale     Quantity  Purchase Year  \\\n",
              "count                           1000  1000.000000  1000.000000         1000.0   \n",
              "mean   2025-03-18 20:06:43.199999744   251.164030     5.591000         2025.0   \n",
              "min              2025-01-01 00:00:00     5.330000     1.000000         2025.0   \n",
              "25%              2025-02-08 00:00:00   130.747500     3.000000         2025.0   \n",
              "50%              2025-03-20 00:00:00   248.260000     6.000000         2025.0   \n",
              "75%              2025-04-26 00:00:00   375.015000     8.000000         2025.0   \n",
              "max              2025-06-06 00:00:00   499.990000    10.000000         2025.0   \n",
              "std                              NaN   142.675702     2.870184            0.0   \n",
              "\n",
              "       Purchase Month  Purchase Day        Price  \n",
              "count     1000.000000   1000.000000  1000.000000  \n",
              "mean         3.090000      2.993000   131.466030  \n",
              "min          1.000000      0.000000     3.090000  \n",
              "25%          2.000000      1.000000    41.810000  \n",
              "50%          3.000000      3.000000   100.015000  \n",
              "75%          4.000000      5.000000   191.697500  \n",
              "max          6.000000      6.000000   479.070000  \n",
              "std          1.499383      1.960305   107.971605  "
            ],
            "text/html": [
              "\n",
              "  <div id=\"df-7af707c7-812e-472b-88bc-771ba75eee53\" class=\"colab-df-container\">\n",
              "    <div>\n",
              "<style scoped>\n",
              "    .dataframe tbody tr th:only-of-type {\n",
              "        vertical-align: middle;\n",
              "    }\n",
              "\n",
              "    .dataframe tbody tr th {\n",
              "        vertical-align: top;\n",
              "    }\n",
              "\n",
              "    .dataframe thead th {\n",
              "        text-align: right;\n",
              "    }\n",
              "</style>\n",
              "<table border=\"1\" class=\"dataframe\">\n",
              "  <thead>\n",
              "    <tr style=\"text-align: right;\">\n",
              "      <th></th>\n",
              "      <th>Purchase Date</th>\n",
              "      <th>Sale</th>\n",
              "      <th>Quantity</th>\n",
              "      <th>Purchase Year</th>\n",
              "      <th>Purchase Month</th>\n",
              "      <th>Purchase Day</th>\n",
              "      <th>Price</th>\n",
              "    </tr>\n",
              "  </thead>\n",
              "  <tbody>\n",
              "    <tr>\n",
              "      <th>count</th>\n",
              "      <td>1000</td>\n",
              "      <td>1000.000000</td>\n",
              "      <td>1000.000000</td>\n",
              "      <td>1000.0</td>\n",
              "      <td>1000.000000</td>\n",
              "      <td>1000.000000</td>\n",
              "      <td>1000.000000</td>\n",
              "    </tr>\n",
              "    <tr>\n",
              "      <th>mean</th>\n",
              "      <td>2025-03-18 20:06:43.199999744</td>\n",
              "      <td>251.164030</td>\n",
              "      <td>5.591000</td>\n",
              "      <td>2025.0</td>\n",
              "      <td>3.090000</td>\n",
              "      <td>2.993000</td>\n",
              "      <td>131.466030</td>\n",
              "    </tr>\n",
              "    <tr>\n",
              "      <th>min</th>\n",
              "      <td>2025-01-01 00:00:00</td>\n",
              "      <td>5.330000</td>\n",
              "      <td>1.000000</td>\n",
              "      <td>2025.0</td>\n",
              "      <td>1.000000</td>\n",
              "      <td>0.000000</td>\n",
              "      <td>3.090000</td>\n",
              "    </tr>\n",
              "    <tr>\n",
              "      <th>25%</th>\n",
              "      <td>2025-02-08 00:00:00</td>\n",
              "      <td>130.747500</td>\n",
              "      <td>3.000000</td>\n",
              "      <td>2025.0</td>\n",
              "      <td>2.000000</td>\n",
              "      <td>1.000000</td>\n",
              "      <td>41.810000</td>\n",
              "    </tr>\n",
              "    <tr>\n",
              "      <th>50%</th>\n",
              "      <td>2025-03-20 00:00:00</td>\n",
              "      <td>248.260000</td>\n",
              "      <td>6.000000</td>\n",
              "      <td>2025.0</td>\n",
              "      <td>3.000000</td>\n",
              "      <td>3.000000</td>\n",
              "      <td>100.015000</td>\n",
              "    </tr>\n",
              "    <tr>\n",
              "      <th>75%</th>\n",
              "      <td>2025-04-26 00:00:00</td>\n",
              "      <td>375.015000</td>\n",
              "      <td>8.000000</td>\n",
              "      <td>2025.0</td>\n",
              "      <td>4.000000</td>\n",
              "      <td>5.000000</td>\n",
              "      <td>191.697500</td>\n",
              "    </tr>\n",
              "    <tr>\n",
              "      <th>max</th>\n",
              "      <td>2025-06-06 00:00:00</td>\n",
              "      <td>499.990000</td>\n",
              "      <td>10.000000</td>\n",
              "      <td>2025.0</td>\n",
              "      <td>6.000000</td>\n",
              "      <td>6.000000</td>\n",
              "      <td>479.070000</td>\n",
              "    </tr>\n",
              "    <tr>\n",
              "      <th>std</th>\n",
              "      <td>NaN</td>\n",
              "      <td>142.675702</td>\n",
              "      <td>2.870184</td>\n",
              "      <td>0.0</td>\n",
              "      <td>1.499383</td>\n",
              "      <td>1.960305</td>\n",
              "      <td>107.971605</td>\n",
              "    </tr>\n",
              "  </tbody>\n",
              "</table>\n",
              "</div>\n",
              "    <div class=\"colab-df-buttons\">\n",
              "\n",
              "  <div class=\"colab-df-container\">\n",
              "    <button class=\"colab-df-convert\" onclick=\"convertToInteractive('df-7af707c7-812e-472b-88bc-771ba75eee53')\"\n",
              "            title=\"Convert this dataframe to an interactive table.\"\n",
              "            style=\"display:none;\">\n",
              "\n",
              "  <svg xmlns=\"http://www.w3.org/2000/svg\" height=\"24px\" viewBox=\"0 -960 960 960\">\n",
              "    <path d=\"M120-120v-720h720v720H120Zm60-500h600v-160H180v160Zm220 220h160v-160H400v160Zm0 220h160v-160H400v160ZM180-400h160v-160H180v160Zm440 0h160v-160H620v160ZM180-180h160v-160H180v160Zm440 0h160v-160H620v160Z\"/>\n",
              "  </svg>\n",
              "    </button>\n",
              "\n",
              "  <style>\n",
              "    .colab-df-container {\n",
              "      display:flex;\n",
              "      gap: 12px;\n",
              "    }\n",
              "\n",
              "    .colab-df-convert {\n",
              "      background-color: #E8F0FE;\n",
              "      border: none;\n",
              "      border-radius: 50%;\n",
              "      cursor: pointer;\n",
              "      display: none;\n",
              "      fill: #1967D2;\n",
              "      height: 32px;\n",
              "      padding: 0 0 0 0;\n",
              "      width: 32px;\n",
              "    }\n",
              "\n",
              "    .colab-df-convert:hover {\n",
              "      background-color: #E2EBFA;\n",
              "      box-shadow: 0px 1px 2px rgba(60, 64, 67, 0.3), 0px 1px 3px 1px rgba(60, 64, 67, 0.15);\n",
              "      fill: #174EA6;\n",
              "    }\n",
              "\n",
              "    .colab-df-buttons div {\n",
              "      margin-bottom: 4px;\n",
              "    }\n",
              "\n",
              "    [theme=dark] .colab-df-convert {\n",
              "      background-color: #3B4455;\n",
              "      fill: #D2E3FC;\n",
              "    }\n",
              "\n",
              "    [theme=dark] .colab-df-convert:hover {\n",
              "      background-color: #434B5C;\n",
              "      box-shadow: 0px 1px 3px 1px rgba(0, 0, 0, 0.15);\n",
              "      filter: drop-shadow(0px 1px 2px rgba(0, 0, 0, 0.3));\n",
              "      fill: #FFFFFF;\n",
              "    }\n",
              "  </style>\n",
              "\n",
              "    <script>\n",
              "      const buttonEl =\n",
              "        document.querySelector('#df-7af707c7-812e-472b-88bc-771ba75eee53 button.colab-df-convert');\n",
              "      buttonEl.style.display =\n",
              "        google.colab.kernel.accessAllowed ? 'block' : 'none';\n",
              "\n",
              "      async function convertToInteractive(key) {\n",
              "        const element = document.querySelector('#df-7af707c7-812e-472b-88bc-771ba75eee53');\n",
              "        const dataTable =\n",
              "          await google.colab.kernel.invokeFunction('convertToInteractive',\n",
              "                                                    [key], {});\n",
              "        if (!dataTable) return;\n",
              "\n",
              "        const docLinkHtml = 'Like what you see? Visit the ' +\n",
              "          '<a target=\"_blank\" href=https://colab.research.google.com/notebooks/data_table.ipynb>data table notebook</a>'\n",
              "          + ' to learn more about interactive tables.';\n",
              "        element.innerHTML = '';\n",
              "        dataTable['output_type'] = 'display_data';\n",
              "        await google.colab.output.renderOutput(dataTable, element);\n",
              "        const docLink = document.createElement('div');\n",
              "        docLink.innerHTML = docLinkHtml;\n",
              "        element.appendChild(docLink);\n",
              "      }\n",
              "    </script>\n",
              "  </div>\n",
              "\n",
              "\n",
              "    <div id=\"df-2b3585c1-0978-4356-8f84-5edab76f92f4\">\n",
              "      <button class=\"colab-df-quickchart\" onclick=\"quickchart('df-2b3585c1-0978-4356-8f84-5edab76f92f4')\"\n",
              "                title=\"Suggest charts\"\n",
              "                style=\"display:none;\">\n",
              "\n",
              "<svg xmlns=\"http://www.w3.org/2000/svg\" height=\"24px\"viewBox=\"0 0 24 24\"\n",
              "     width=\"24px\">\n",
              "    <g>\n",
              "        <path d=\"M19 3H5c-1.1 0-2 .9-2 2v14c0 1.1.9 2 2 2h14c1.1 0 2-.9 2-2V5c0-1.1-.9-2-2-2zM9 17H7v-7h2v7zm4 0h-2V7h2v10zm4 0h-2v-4h2v4z\"/>\n",
              "    </g>\n",
              "</svg>\n",
              "      </button>\n",
              "\n",
              "<style>\n",
              "  .colab-df-quickchart {\n",
              "      --bg-color: #E8F0FE;\n",
              "      --fill-color: #1967D2;\n",
              "      --hover-bg-color: #E2EBFA;\n",
              "      --hover-fill-color: #174EA6;\n",
              "      --disabled-fill-color: #AAA;\n",
              "      --disabled-bg-color: #DDD;\n",
              "  }\n",
              "\n",
              "  [theme=dark] .colab-df-quickchart {\n",
              "      --bg-color: #3B4455;\n",
              "      --fill-color: #D2E3FC;\n",
              "      --hover-bg-color: #434B5C;\n",
              "      --hover-fill-color: #FFFFFF;\n",
              "      --disabled-bg-color: #3B4455;\n",
              "      --disabled-fill-color: #666;\n",
              "  }\n",
              "\n",
              "  .colab-df-quickchart {\n",
              "    background-color: var(--bg-color);\n",
              "    border: none;\n",
              "    border-radius: 50%;\n",
              "    cursor: pointer;\n",
              "    display: none;\n",
              "    fill: var(--fill-color);\n",
              "    height: 32px;\n",
              "    padding: 0;\n",
              "    width: 32px;\n",
              "  }\n",
              "\n",
              "  .colab-df-quickchart:hover {\n",
              "    background-color: var(--hover-bg-color);\n",
              "    box-shadow: 0 1px 2px rgba(60, 64, 67, 0.3), 0 1px 3px 1px rgba(60, 64, 67, 0.15);\n",
              "    fill: var(--button-hover-fill-color);\n",
              "  }\n",
              "\n",
              "  .colab-df-quickchart-complete:disabled,\n",
              "  .colab-df-quickchart-complete:disabled:hover {\n",
              "    background-color: var(--disabled-bg-color);\n",
              "    fill: var(--disabled-fill-color);\n",
              "    box-shadow: none;\n",
              "  }\n",
              "\n",
              "  .colab-df-spinner {\n",
              "    border: 2px solid var(--fill-color);\n",
              "    border-color: transparent;\n",
              "    border-bottom-color: var(--fill-color);\n",
              "    animation:\n",
              "      spin 1s steps(1) infinite;\n",
              "  }\n",
              "\n",
              "  @keyframes spin {\n",
              "    0% {\n",
              "      border-color: transparent;\n",
              "      border-bottom-color: var(--fill-color);\n",
              "      border-left-color: var(--fill-color);\n",
              "    }\n",
              "    20% {\n",
              "      border-color: transparent;\n",
              "      border-left-color: var(--fill-color);\n",
              "      border-top-color: var(--fill-color);\n",
              "    }\n",
              "    30% {\n",
              "      border-color: transparent;\n",
              "      border-left-color: var(--fill-color);\n",
              "      border-top-color: var(--fill-color);\n",
              "      border-right-color: var(--fill-color);\n",
              "    }\n",
              "    40% {\n",
              "      border-color: transparent;\n",
              "      border-right-color: var(--fill-color);\n",
              "      border-top-color: var(--fill-color);\n",
              "    }\n",
              "    60% {\n",
              "      border-color: transparent;\n",
              "      border-right-color: var(--fill-color);\n",
              "    }\n",
              "    80% {\n",
              "      border-color: transparent;\n",
              "      border-right-color: var(--fill-color);\n",
              "      border-bottom-color: var(--fill-color);\n",
              "    }\n",
              "    90% {\n",
              "      border-color: transparent;\n",
              "      border-bottom-color: var(--fill-color);\n",
              "    }\n",
              "  }\n",
              "</style>\n",
              "\n",
              "      <script>\n",
              "        async function quickchart(key) {\n",
              "          const quickchartButtonEl =\n",
              "            document.querySelector('#' + key + ' button');\n",
              "          quickchartButtonEl.disabled = true;  // To prevent multiple clicks.\n",
              "          quickchartButtonEl.classList.add('colab-df-spinner');\n",
              "          try {\n",
              "            const charts = await google.colab.kernel.invokeFunction(\n",
              "                'suggestCharts', [key], {});\n",
              "          } catch (error) {\n",
              "            console.error('Error during call to suggestCharts:', error);\n",
              "          }\n",
              "          quickchartButtonEl.classList.remove('colab-df-spinner');\n",
              "          quickchartButtonEl.classList.add('colab-df-quickchart-complete');\n",
              "        }\n",
              "        (() => {\n",
              "          let quickchartButtonEl =\n",
              "            document.querySelector('#df-2b3585c1-0978-4356-8f84-5edab76f92f4 button');\n",
              "          quickchartButtonEl.style.display =\n",
              "            google.colab.kernel.accessAllowed ? 'block' : 'none';\n",
              "        })();\n",
              "      </script>\n",
              "    </div>\n",
              "\n",
              "    </div>\n",
              "  </div>\n"
            ],
            "application/vnd.google.colaboratory.intrinsic+json": {
              "type": "dataframe",
              "summary": "{\n  \"name\": \"display(data\",\n  \"rows\": 8,\n  \"fields\": [\n    {\n      \"column\": \"Purchase Date\",\n      \"properties\": {\n        \"dtype\": \"date\",\n        \"min\": \"1970-01-01 00:00:00.000001\",\n        \"max\": \"2025-06-06 00:00:00\",\n        \"num_unique_values\": 7,\n        \"samples\": [\n          \"1000\",\n          \"2025-03-18 20:06:43.199999744\",\n          \"2025-04-26 00:00:00\"\n        ],\n        \"semantic_type\": \"\",\n        \"description\": \"\"\n      }\n    },\n    {\n      \"column\": \"Sale\",\n      \"properties\": {\n        \"dtype\": \"number\",\n        \"std\": 310.0461548169359,\n        \"min\": 5.33,\n        \"max\": 1000.0,\n        \"num_unique_values\": 8,\n        \"samples\": [\n          251.16403,\n          375.015,\n          1000.0\n        ],\n        \"semantic_type\": \"\",\n        \"description\": \"\"\n      }\n    },\n    {\n      \"column\": \"Quantity\",\n      \"properties\": {\n        \"dtype\": \"number\",\n        \"std\": 351.7239225710123,\n        \"min\": 1.0,\n        \"max\": 1000.0,\n        \"num_unique_values\": 8,\n        \"samples\": [\n          5.591,\n          8.0,\n          1000.0\n        ],\n        \"semantic_type\": \"\",\n        \"description\": \"\"\n      }\n    },\n    {\n      \"column\": \"Purchase Year\",\n      \"properties\": {\n        \"dtype\": \"number\",\n        \"std\": 754.8356017798085,\n        \"min\": 0.0,\n        \"max\": 2025.0,\n        \"num_unique_values\": 3,\n        \"samples\": [\n          1000.0,\n          2025.0,\n          0.0\n        ],\n        \"semantic_type\": \"\",\n        \"description\": \"\"\n      }\n    },\n    {\n      \"column\": \"Purchase Month\",\n      \"properties\": {\n        \"dtype\": \"number\",\n        \"std\": 352.516962158556,\n        \"min\": 1.0,\n        \"max\": 1000.0,\n        \"num_unique_values\": 8,\n        \"samples\": [\n          3.09,\n          4.0,\n          1000.0\n        ],\n        \"semantic_type\": \"\",\n        \"description\": \"\"\n      }\n    },\n    {\n      \"column\": \"Purchase Day\",\n      \"properties\": {\n        \"dtype\": \"number\",\n        \"std\": 352.5510516058557,\n        \"min\": 0.0,\n        \"max\": 1000.0,\n        \"num_unique_values\": 8,\n        \"samples\": [\n          2.993,\n          5.0,\n          1000.0\n        ],\n        \"semantic_type\": \"\",\n        \"description\": \"\"\n      }\n    },\n    {\n      \"column\": \"Price\",\n      \"properties\": {\n        \"dtype\": \"number\",\n        \"std\": 333.59898063732817,\n        \"min\": 3.09,\n        \"max\": 1000.0,\n        \"num_unique_values\": 8,\n        \"samples\": [\n          131.46603,\n          191.6975,\n          1000.0\n        ],\n        \"semantic_type\": \"\",\n        \"description\": \"\"\n      }\n    }\n  ]\n}"
            }
          },
          "metadata": {}
        },
        {
          "output_type": "stream",
          "name": "stdout",
          "text": [
            "\n",
            "Statistik Deskriptif untuk Kolom Kategorikal:\n"
          ]
        },
        {
          "output_type": "display_data",
          "data": {
            "text/plain": [
              "          Customer Name Product Category\n",
              "count              1000             1000\n",
              "unique              992                4\n",
              "top     Christopher Fry            Books\n",
              "freq                  2              260"
            ],
            "text/html": [
              "\n",
              "  <div id=\"df-6be21147-0096-478b-88e5-295ef116a6f8\" class=\"colab-df-container\">\n",
              "    <div>\n",
              "<style scoped>\n",
              "    .dataframe tbody tr th:only-of-type {\n",
              "        vertical-align: middle;\n",
              "    }\n",
              "\n",
              "    .dataframe tbody tr th {\n",
              "        vertical-align: top;\n",
              "    }\n",
              "\n",
              "    .dataframe thead th {\n",
              "        text-align: right;\n",
              "    }\n",
              "</style>\n",
              "<table border=\"1\" class=\"dataframe\">\n",
              "  <thead>\n",
              "    <tr style=\"text-align: right;\">\n",
              "      <th></th>\n",
              "      <th>Customer Name</th>\n",
              "      <th>Product Category</th>\n",
              "    </tr>\n",
              "  </thead>\n",
              "  <tbody>\n",
              "    <tr>\n",
              "      <th>count</th>\n",
              "      <td>1000</td>\n",
              "      <td>1000</td>\n",
              "    </tr>\n",
              "    <tr>\n",
              "      <th>unique</th>\n",
              "      <td>992</td>\n",
              "      <td>4</td>\n",
              "    </tr>\n",
              "    <tr>\n",
              "      <th>top</th>\n",
              "      <td>Christopher Fry</td>\n",
              "      <td>Books</td>\n",
              "    </tr>\n",
              "    <tr>\n",
              "      <th>freq</th>\n",
              "      <td>2</td>\n",
              "      <td>260</td>\n",
              "    </tr>\n",
              "  </tbody>\n",
              "</table>\n",
              "</div>\n",
              "    <div class=\"colab-df-buttons\">\n",
              "\n",
              "  <div class=\"colab-df-container\">\n",
              "    <button class=\"colab-df-convert\" onclick=\"convertToInteractive('df-6be21147-0096-478b-88e5-295ef116a6f8')\"\n",
              "            title=\"Convert this dataframe to an interactive table.\"\n",
              "            style=\"display:none;\">\n",
              "\n",
              "  <svg xmlns=\"http://www.w3.org/2000/svg\" height=\"24px\" viewBox=\"0 -960 960 960\">\n",
              "    <path d=\"M120-120v-720h720v720H120Zm60-500h600v-160H180v160Zm220 220h160v-160H400v160Zm0 220h160v-160H400v160ZM180-400h160v-160H180v160Zm440 0h160v-160H620v160ZM180-180h160v-160H180v160Zm440 0h160v-160H620v160Z\"/>\n",
              "  </svg>\n",
              "    </button>\n",
              "\n",
              "  <style>\n",
              "    .colab-df-container {\n",
              "      display:flex;\n",
              "      gap: 12px;\n",
              "    }\n",
              "\n",
              "    .colab-df-convert {\n",
              "      background-color: #E8F0FE;\n",
              "      border: none;\n",
              "      border-radius: 50%;\n",
              "      cursor: pointer;\n",
              "      display: none;\n",
              "      fill: #1967D2;\n",
              "      height: 32px;\n",
              "      padding: 0 0 0 0;\n",
              "      width: 32px;\n",
              "    }\n",
              "\n",
              "    .colab-df-convert:hover {\n",
              "      background-color: #E2EBFA;\n",
              "      box-shadow: 0px 1px 2px rgba(60, 64, 67, 0.3), 0px 1px 3px 1px rgba(60, 64, 67, 0.15);\n",
              "      fill: #174EA6;\n",
              "    }\n",
              "\n",
              "    .colab-df-buttons div {\n",
              "      margin-bottom: 4px;\n",
              "    }\n",
              "\n",
              "    [theme=dark] .colab-df-convert {\n",
              "      background-color: #3B4455;\n",
              "      fill: #D2E3FC;\n",
              "    }\n",
              "\n",
              "    [theme=dark] .colab-df-convert:hover {\n",
              "      background-color: #434B5C;\n",
              "      box-shadow: 0px 1px 3px 1px rgba(0, 0, 0, 0.15);\n",
              "      filter: drop-shadow(0px 1px 2px rgba(0, 0, 0, 0.3));\n",
              "      fill: #FFFFFF;\n",
              "    }\n",
              "  </style>\n",
              "\n",
              "    <script>\n",
              "      const buttonEl =\n",
              "        document.querySelector('#df-6be21147-0096-478b-88e5-295ef116a6f8 button.colab-df-convert');\n",
              "      buttonEl.style.display =\n",
              "        google.colab.kernel.accessAllowed ? 'block' : 'none';\n",
              "\n",
              "      async function convertToInteractive(key) {\n",
              "        const element = document.querySelector('#df-6be21147-0096-478b-88e5-295ef116a6f8');\n",
              "        const dataTable =\n",
              "          await google.colab.kernel.invokeFunction('convertToInteractive',\n",
              "                                                    [key], {});\n",
              "        if (!dataTable) return;\n",
              "\n",
              "        const docLinkHtml = 'Like what you see? Visit the ' +\n",
              "          '<a target=\"_blank\" href=https://colab.research.google.com/notebooks/data_table.ipynb>data table notebook</a>'\n",
              "          + ' to learn more about interactive tables.';\n",
              "        element.innerHTML = '';\n",
              "        dataTable['output_type'] = 'display_data';\n",
              "        await google.colab.output.renderOutput(dataTable, element);\n",
              "        const docLink = document.createElement('div');\n",
              "        docLink.innerHTML = docLinkHtml;\n",
              "        element.appendChild(docLink);\n",
              "      }\n",
              "    </script>\n",
              "  </div>\n",
              "\n",
              "\n",
              "    <div id=\"df-a771a307-bfe9-405f-8c9f-f86550df3bf5\">\n",
              "      <button class=\"colab-df-quickchart\" onclick=\"quickchart('df-a771a307-bfe9-405f-8c9f-f86550df3bf5')\"\n",
              "                title=\"Suggest charts\"\n",
              "                style=\"display:none;\">\n",
              "\n",
              "<svg xmlns=\"http://www.w3.org/2000/svg\" height=\"24px\"viewBox=\"0 0 24 24\"\n",
              "     width=\"24px\">\n",
              "    <g>\n",
              "        <path d=\"M19 3H5c-1.1 0-2 .9-2 2v14c0 1.1.9 2 2 2h14c1.1 0 2-.9 2-2V5c0-1.1-.9-2-2-2zM9 17H7v-7h2v7zm4 0h-2V7h2v10zm4 0h-2v-4h2v4z\"/>\n",
              "    </g>\n",
              "</svg>\n",
              "      </button>\n",
              "\n",
              "<style>\n",
              "  .colab-df-quickchart {\n",
              "      --bg-color: #E8F0FE;\n",
              "      --fill-color: #1967D2;\n",
              "      --hover-bg-color: #E2EBFA;\n",
              "      --hover-fill-color: #174EA6;\n",
              "      --disabled-fill-color: #AAA;\n",
              "      --disabled-bg-color: #DDD;\n",
              "  }\n",
              "\n",
              "  [theme=dark] .colab-df-quickchart {\n",
              "      --bg-color: #3B4455;\n",
              "      --fill-color: #D2E3FC;\n",
              "      --hover-bg-color: #434B5C;\n",
              "      --hover-fill-color: #FFFFFF;\n",
              "      --disabled-bg-color: #3B4455;\n",
              "      --disabled-fill-color: #666;\n",
              "  }\n",
              "\n",
              "  .colab-df-quickchart {\n",
              "    background-color: var(--bg-color);\n",
              "    border: none;\n",
              "    border-radius: 50%;\n",
              "    cursor: pointer;\n",
              "    display: none;\n",
              "    fill: var(--fill-color);\n",
              "    height: 32px;\n",
              "    padding: 0;\n",
              "    width: 32px;\n",
              "  }\n",
              "\n",
              "  .colab-df-quickchart:hover {\n",
              "    background-color: var(--hover-bg-color);\n",
              "    box-shadow: 0 1px 2px rgba(60, 64, 67, 0.3), 0 1px 3px 1px rgba(60, 64, 67, 0.15);\n",
              "    fill: var(--button-hover-fill-color);\n",
              "  }\n",
              "\n",
              "  .colab-df-quickchart-complete:disabled,\n",
              "  .colab-df-quickchart-complete:disabled:hover {\n",
              "    background-color: var(--disabled-bg-color);\n",
              "    fill: var(--disabled-fill-color);\n",
              "    box-shadow: none;\n",
              "  }\n",
              "\n",
              "  .colab-df-spinner {\n",
              "    border: 2px solid var(--fill-color);\n",
              "    border-color: transparent;\n",
              "    border-bottom-color: var(--fill-color);\n",
              "    animation:\n",
              "      spin 1s steps(1) infinite;\n",
              "  }\n",
              "\n",
              "  @keyframes spin {\n",
              "    0% {\n",
              "      border-color: transparent;\n",
              "      border-bottom-color: var(--fill-color);\n",
              "      border-left-color: var(--fill-color);\n",
              "    }\n",
              "    20% {\n",
              "      border-color: transparent;\n",
              "      border-left-color: var(--fill-color);\n",
              "      border-top-color: var(--fill-color);\n",
              "    }\n",
              "    30% {\n",
              "      border-color: transparent;\n",
              "      border-left-color: var(--fill-color);\n",
              "      border-top-color: var(--fill-color);\n",
              "      border-right-color: var(--fill-color);\n",
              "    }\n",
              "    40% {\n",
              "      border-color: transparent;\n",
              "      border-right-color: var(--fill-color);\n",
              "      border-top-color: var(--fill-color);\n",
              "    }\n",
              "    60% {\n",
              "      border-color: transparent;\n",
              "      border-right-color: var(--fill-color);\n",
              "    }\n",
              "    80% {\n",
              "      border-color: transparent;\n",
              "      border-right-color: var(--fill-color);\n",
              "      border-bottom-color: var(--fill-color);\n",
              "    }\n",
              "    90% {\n",
              "      border-color: transparent;\n",
              "      border-bottom-color: var(--fill-color);\n",
              "    }\n",
              "  }\n",
              "</style>\n",
              "\n",
              "      <script>\n",
              "        async function quickchart(key) {\n",
              "          const quickchartButtonEl =\n",
              "            document.querySelector('#' + key + ' button');\n",
              "          quickchartButtonEl.disabled = true;  // To prevent multiple clicks.\n",
              "          quickchartButtonEl.classList.add('colab-df-spinner');\n",
              "          try {\n",
              "            const charts = await google.colab.kernel.invokeFunction(\n",
              "                'suggestCharts', [key], {});\n",
              "          } catch (error) {\n",
              "            console.error('Error during call to suggestCharts:', error);\n",
              "          }\n",
              "          quickchartButtonEl.classList.remove('colab-df-spinner');\n",
              "          quickchartButtonEl.classList.add('colab-df-quickchart-complete');\n",
              "        }\n",
              "        (() => {\n",
              "          let quickchartButtonEl =\n",
              "            document.querySelector('#df-a771a307-bfe9-405f-8c9f-f86550df3bf5 button');\n",
              "          quickchartButtonEl.style.display =\n",
              "            google.colab.kernel.accessAllowed ? 'block' : 'none';\n",
              "        })();\n",
              "      </script>\n",
              "    </div>\n",
              "\n",
              "    </div>\n",
              "  </div>\n"
            ],
            "application/vnd.google.colaboratory.intrinsic+json": {
              "type": "dataframe",
              "summary": "{\n  \"name\": \"display(data\",\n  \"rows\": 4,\n  \"fields\": [\n    {\n      \"column\": \"Customer Name\",\n      \"properties\": {\n        \"dtype\": \"string\",\n        \"num_unique_values\": 4,\n        \"samples\": [\n          992,\n          \"2\",\n          \"1000\"\n        ],\n        \"semantic_type\": \"\",\n        \"description\": \"\"\n      }\n    },\n    {\n      \"column\": \"Product Category\",\n      \"properties\": {\n        \"dtype\": \"string\",\n        \"num_unique_values\": 4,\n        \"samples\": [\n          4,\n          \"260\",\n          \"1000\"\n        ],\n        \"semantic_type\": \"\",\n        \"description\": \"\"\n      }\n    }\n  ]\n}"
            }
          },
          "metadata": {}
        }
      ]
    },
    {
      "cell_type": "markdown",
      "metadata": {
        "id": "5e73abef"
      },
      "source": [
        "## Penjualan total per bulan\n",
        "\n",
        "### Subtask:\n",
        "Hitung total penjualan untuk setiap bulan dan visualisasikan.\n"
      ]
    },
    {
      "cell_type": "markdown",
      "metadata": {
        "id": "f1af0f9a"
      },
      "source": [
        "**Reasoning**:\n",
        "Group the data by 'Purchase Month', calculate the sum of 'Sale' for each month, print the result, and then create and display a bar plot of the monthly sales.\n",
        "\n"
      ]
    },
    {
      "cell_type": "code",
      "metadata": {
        "colab": {
          "base_uri": "https://localhost:8080/",
          "height": 911
        },
        "id": "199aaf48",
        "outputId": "d5626ddd-5701-49a2-85e4-0b7d101b7006"
      },
      "source": [
        "monthly_sales = data.groupby('Purchase Month')['Sale'].sum()\n",
        "print(\"Total Penjualan per Bulan:\")\n",
        "display(monthly_sales)\n",
        "\n",
        "plt.figure(figsize=(10, 6))\n",
        "monthly_sales.plot(kind='bar')\n",
        "plt.title('Total Penjualan per Bulan')\n",
        "plt.xlabel('Bulan')\n",
        "plt.ylabel('Total Penjualan')\n",
        "plt.xticks(rotation=0)\n",
        "plt.tight_layout()\n",
        "plt.show()"
      ],
      "execution_count": null,
      "outputs": [
        {
          "output_type": "stream",
          "name": "stdout",
          "text": [
            "Total Penjualan per Bulan:\n"
          ]
        },
        {
          "output_type": "display_data",
          "data": {
            "text/plain": [
              "Purchase Month\n",
              "1    50790.99\n",
              "2    48071.10\n",
              "3    47857.59\n",
              "4    50107.87\n",
              "5    45924.10\n",
              "6     8412.38\n",
              "Name: Sale, dtype: float64"
            ],
            "text/html": [
              "<div>\n",
              "<style scoped>\n",
              "    .dataframe tbody tr th:only-of-type {\n",
              "        vertical-align: middle;\n",
              "    }\n",
              "\n",
              "    .dataframe tbody tr th {\n",
              "        vertical-align: top;\n",
              "    }\n",
              "\n",
              "    .dataframe thead th {\n",
              "        text-align: right;\n",
              "    }\n",
              "</style>\n",
              "<table border=\"1\" class=\"dataframe\">\n",
              "  <thead>\n",
              "    <tr style=\"text-align: right;\">\n",
              "      <th></th>\n",
              "      <th>Sale</th>\n",
              "    </tr>\n",
              "    <tr>\n",
              "      <th>Purchase Month</th>\n",
              "      <th></th>\n",
              "    </tr>\n",
              "  </thead>\n",
              "  <tbody>\n",
              "    <tr>\n",
              "      <th>1</th>\n",
              "      <td>50790.99</td>\n",
              "    </tr>\n",
              "    <tr>\n",
              "      <th>2</th>\n",
              "      <td>48071.10</td>\n",
              "    </tr>\n",
              "    <tr>\n",
              "      <th>3</th>\n",
              "      <td>47857.59</td>\n",
              "    </tr>\n",
              "    <tr>\n",
              "      <th>4</th>\n",
              "      <td>50107.87</td>\n",
              "    </tr>\n",
              "    <tr>\n",
              "      <th>5</th>\n",
              "      <td>45924.10</td>\n",
              "    </tr>\n",
              "    <tr>\n",
              "      <th>6</th>\n",
              "      <td>8412.38</td>\n",
              "    </tr>\n",
              "  </tbody>\n",
              "</table>\n",
              "</div><br><label><b>dtype:</b> float64</label>"
            ]
          },
          "metadata": {}
        },
        {
          "output_type": "display_data",
          "data": {
            "text/plain": [
              "<Figure size 1000x600 with 1 Axes>"
            ],
            "image/png": "[encoded data removed]"
          },
          "metadata": {}
        }
      ]
    },
    {
      "cell_type": "markdown",
      "metadata": {
        "id": "79abb87f"
      },
      "source": [
        "## Produk teratas\n",
        "\n",
        "### Subtask:\n",
        "Identifikasi dan visualisasikan produk teratas berdasarkan total penjualan atau kuantitas terjual.\n"
      ]
    },
    {
      "cell_type": "markdown",
      "metadata": {
        "id": "8adf07e8"
      },
      "source": [
        "**Reasoning**:\n",
        "Calculate the total sales for each product category and sort them in descending order.\n",
        "\n"
      ]
    },
    {
      "cell_type": "code",
      "metadata": {
        "colab": {
          "base_uri": "https://localhost:8080/",
          "height": 258
        },
        "id": "091f70bb",
        "outputId": "2306cad7-44ad-4da6-b2f3-90e626f92dcc"
      },
      "source": [
        "product_sales = data.groupby('Product Category')['Sale'].sum().sort_values(ascending=False)\n",
        "print(\"Total Penjualan per Kategori Produk:\")\n",
        "display(product_sales)"
      ],
      "execution_count": null,
      "outputs": [
        {
          "output_type": "stream",
          "name": "stdout",
          "text": [
            "Total Penjualan per Kategori Produk:\n"
          ]
        },
        {
          "output_type": "display_data",
          "data": {
            "text/plain": [
              "Product Category\n",
              "Books          67255.45\n",
              "Clothing       65260.86\n",
              "Electronics    62195.34\n",
              "Groceries      56452.38\n",
              "Name: Sale, dtype: float64"
            ],
            "text/html": [
              "<div>\n",
              "<style scoped>\n",
              "    .dataframe tbody tr th:only-of-type {\n",
              "        vertical-align: middle;\n",
              "    }\n",
              "\n",
              "    .dataframe tbody tr th {\n",
              "        vertical-align: top;\n",
              "    }\n",
              "\n",
              "    .dataframe thead th {\n",
              "        text-align: right;\n",
              "    }\n",
              "</style>\n",
              "<table border=\"1\" class=\"dataframe\">\n",
              "  <thead>\n",
              "    <tr style=\"text-align: right;\">\n",
              "      <th></th>\n",
              "      <th>Sale</th>\n",
              "    </tr>\n",
              "    <tr>\n",
              "      <th>Product Category</th>\n",
              "      <th></th>\n",
              "    </tr>\n",
              "  </thead>\n",
              "  <tbody>\n",
              "    <tr>\n",
              "      <th>Books</th>\n",
              "      <td>67255.45</td>\n",
              "    </tr>\n",
              "    <tr>\n",
              "      <th>Clothing</th>\n",
              "      <td>65260.86</td>\n",
              "    </tr>\n",
              "    <tr>\n",
              "      <th>Electronics</th>\n",
              "      <td>62195.34</td>\n",
              "    </tr>\n",
              "    <tr>\n",
              "      <th>Groceries</th>\n",
              "      <td>56452.38</td>\n",
              "    </tr>\n",
              "  </tbody>\n",
              "</table>\n",
              "</div><br><label><b>dtype:</b> float64</label>"
            ]
          },
          "metadata": {}
        }
      ]
    },
    {
      "cell_type": "markdown",
      "metadata": {
        "id": "0ba131d2"
      },
      "source": [
        "**Reasoning**:\n",
        "Create a bar plot to visualize the total sales per product category.\n",
        "\n"
      ]
    },
    {
      "cell_type": "code",
      "metadata": {
        "colab": {
          "base_uri": "https://localhost:8080/",
          "height": 607
        },
        "id": "8298bc8b",
        "outputId": "bfb25cda-0da3-4446-f5fe-ea5a313aeea8"
      },
      "source": [
        "plt.figure(figsize=(10, 6))\n",
        "product_sales.plot(kind='bar')\n",
        "plt.title('Total Penjualan per Kategori Produk')\n",
        "plt.xlabel('Kategori Produk')\n",
        "plt.ylabel('Total Penjualan')\n",
        "plt.xticks(rotation=45, ha='right')\n",
        "plt.tight_layout()\n",
        "plt.show()"
      ],
      "execution_count": null,
      "outputs": [
        {
          "output_type": "display_data",
          "data": {
            "text/plain": [
              "<Figure size 1000x600 with 1 Axes>"
            ],
            "image/png": "[encoded data removed]"
          },
          "metadata": {}
        }
      ]
    },
    {
      "cell_type": "markdown",
      "metadata": {
        "id": "3e7e7c54"
      },
      "source": [
        "**Reasoning**:\n",
        "Calculate the total quantity sold for each product category and sort them in descending order.\n",
        "\n"
      ]
    },
    {
      "cell_type": "code",
      "metadata": {
        "colab": {
          "base_uri": "https://localhost:8080/",
          "height": 258
        },
        "id": "607db67c",
        "outputId": "0ae2320f-8231-4069-ba17-6195c4d6a0e5"
      },
      "source": [
        "product_quantity = data.groupby('Product Category')['Quantity'].sum().sort_values(ascending=False)\n",
        "print(\"Total Kuantitas Terjual per Kategori Produk:\")\n",
        "display(product_quantity)"
      ],
      "execution_count": null,
      "outputs": [
        {
          "output_type": "stream",
          "name": "stdout",
          "text": [
            "Total Kuantitas Terjual per Kategori Produk:\n"
          ]
        },
        {
          "output_type": "display_data",
          "data": {
            "text/plain": [
              "Product Category\n",
              "Books          1499\n",
              "Clothing       1460\n",
              "Electronics    1351\n",
              "Groceries      1281\n",
              "Name: Quantity, dtype: int64"
            ],
            "text/html": [
              "<div>\n",
              "<style scoped>\n",
              "    .dataframe tbody tr th:only-of-type {\n",
              "        vertical-align: middle;\n",
              "    }\n",
              "\n",
              "    .dataframe tbody tr th {\n",
              "        vertical-align: top;\n",
              "    }\n",
              "\n",
              "    .dataframe thead th {\n",
              "        text-align: right;\n",
              "    }\n",
              "</style>\n",
              "<table border=\"1\" class=\"dataframe\">\n",
              "  <thead>\n",
              "    <tr style=\"text-align: right;\">\n",
              "      <th></th>\n",
              "      <th>Quantity</th>\n",
              "    </tr>\n",
              "    <tr>\n",
              "      <th>Product Category</th>\n",
              "      <th></th>\n",
              "    </tr>\n",
              "  </thead>\n",
              "  <tbody>\n",
              "    <tr>\n",
              "      <th>Books</th>\n",
              "      <td>1499</td>\n",
              "    </tr>\n",
              "    <tr>\n",
              "      <th>Clothing</th>\n",
              "      <td>1460</td>\n",
              "    </tr>\n",
              "    <tr>\n",
              "      <th>Electronics</th>\n",
              "      <td>1351</td>\n",
              "    </tr>\n",
              "    <tr>\n",
              "      <th>Groceries</th>\n",
              "      <td>1281</td>\n",
              "    </tr>\n",
              "  </tbody>\n",
              "</table>\n",
              "</div><br><label><b>dtype:</b> int64</label>"
            ]
          },
          "metadata": {}
        }
      ]
    },
    {
      "cell_type": "markdown",
      "metadata": {
        "id": "139002f5"
      },
      "source": [
        "**Reasoning**:\n",
        "Create a bar plot to visualize the total quantity sold per product category.\n",
        "\n"
      ]
    },
    {
      "cell_type": "code",
      "metadata": {
        "colab": {
          "base_uri": "https://localhost:8080/",
          "height": 607
        },
        "id": "7df79c31",
        "outputId": "aa528f93-297a-44d2-e305-f0d33c3efd9b"
      },
      "source": [
        "plt.figure(figsize=(10, 6))\n",
        "product_quantity.plot(kind='bar')\n",
        "plt.title('Total Kuantitas Terjual per Kategori Produk')\n",
        "plt.xlabel('Kategori Produk')\n",
        "plt.ylabel('Total Kuantitas Terjual')\n",
        "plt.xticks(rotation=45, ha='right')\n",
        "plt.tight_layout()\n",
        "plt.show()"
      ],
      "execution_count": null,
      "outputs": [
        {
          "output_type": "display_data",
          "data": {
            "text/plain": [
              "<Figure size 1000x600 with 1 Axes>"
            ],
            "image/png": "[encoded data removed]"
          },
          "metadata": {}
        }
      ]
    },
    {
      "cell_type": "markdown",
      "metadata": {
        "id": "c9abc5ff"
      },
      "source": [
        "## Segmentasi pelanggan\n",
        "\n",
        "### Subtask:\n",
        "Lakukan analisis dasar untuk mengidentifikasi segmen pelanggan berdasarkan perilaku pembelian.\n"
      ]
    },
    {
      "cell_type": "markdown",
      "metadata": {
        "id": "05232d7e"
      },
      "source": [
        "**Reasoning**:\n",
        "Calculate the total spending for each customer by grouping by 'Customer Name' and summing the 'Sale' column, then sort the results in descending order and display the top 10.\n",
        "\n"
      ]
    },
    {
      "cell_type": "code",
      "metadata": {
        "colab": {
          "base_uri": "https://localhost:8080/",
          "height": 446
        },
        "id": "5189baf7",
        "outputId": "40ea476c-d191-4dcf-f000-d6c20969309a"
      },
      "source": [
        "customer_spending = data.groupby('Customer Name')['Sale'].sum().sort_values(ascending=False)\n",
        "print(\"Top 10 Pelanggan Berdasarkan Total Pengeluaran:\")\n",
        "display(customer_spending.head(10))"
      ],
      "execution_count": null,
      "outputs": [
        {
          "output_type": "stream",
          "name": "stdout",
          "text": [
            "Top 10 Pelanggan Berdasarkan Total Pengeluaran:\n"
          ]
        },
        {
          "output_type": "display_data",
          "data": {
            "text/plain": [
              "Customer Name\n",
              "Derek Wright       704.74\n",
              "Lisa Webb          658.16\n",
              "Christopher Fry    575.17\n",
              "Joseph Williams    543.92\n",
              "Melissa Taylor     499.99\n",
              "Kathleen Parker    499.80\n",
              "Shawn Deleon       499.08\n",
              "Laura Haney        498.73\n",
              "Brian Burton       498.68\n",
              "Tyler Webb         498.20\n",
              "Name: Sale, dtype: float64"
            ],
            "text/html": [
              "<div>\n",
              "<style scoped>\n",
              "    .dataframe tbody tr th:only-of-type {\n",
              "        vertical-align: middle;\n",
              "    }\n",
              "\n",
              "    .dataframe tbody tr th {\n",
              "        vertical-align: top;\n",
              "    }\n",
              "\n",
              "    .dataframe thead th {\n",
              "        text-align: right;\n",
              "    }\n",
              "</style>\n",
              "<table border=\"1\" class=\"dataframe\">\n",
              "  <thead>\n",
              "    <tr style=\"text-align: right;\">\n",
              "      <th></th>\n",
              "      <th>Sale</th>\n",
              "    </tr>\n",
              "    <tr>\n",
              "      <th>Customer Name</th>\n",
              "      <th></th>\n",
              "    </tr>\n",
              "  </thead>\n",
              "  <tbody>\n",
              "    <tr>\n",
              "      <th>Derek Wright</th>\n",
              "      <td>704.74</td>\n",
              "    </tr>\n",
              "    <tr>\n",
              "      <th>Lisa Webb</th>\n",
              "      <td>658.16</td>\n",
              "    </tr>\n",
              "    <tr>\n",
              "      <th>Christopher Fry</th>\n",
              "      <td>575.17</td>\n",
              "    </tr>\n",
              "    <tr>\n",
              "      <th>Joseph Williams</th>\n",
              "      <td>543.92</td>\n",
              "    </tr>\n",
              "    <tr>\n",
              "      <th>Melissa Taylor</th>\n",
              "      <td>499.99</td>\n",
              "    </tr>\n",
              "    <tr>\n",
              "      <th>Kathleen Parker</th>\n",
              "      <td>499.80</td>\n",
              "    </tr>\n",
              "    <tr>\n",
              "      <th>Shawn Deleon</th>\n",
              "      <td>499.08</td>\n",
              "    </tr>\n",
              "    <tr>\n",
              "      <th>Laura Haney</th>\n",
              "      <td>498.73</td>\n",
              "    </tr>\n",
              "    <tr>\n",
              "      <th>Brian Burton</th>\n",
              "      <td>498.68</td>\n",
              "    </tr>\n",
              "    <tr>\n",
              "      <th>Tyler Webb</th>\n",
              "      <td>498.20</td>\n",
              "    </tr>\n",
              "  </tbody>\n",
              "</table>\n",
              "</div><br><label><b>dtype:</b> float64</label>"
            ]
          },
          "metadata": {}
        }
      ]
    },
    {
      "cell_type": "markdown",
      "metadata": {
        "id": "8d3d0a40"
      },
      "source": [
        "## Summary:\n",
        "\n",
        "### Data Analysis Key Findings\n",
        "\n",
        "*   The dataset includes both numerical columns (e.g., `Sale`, `Quantity`, `Price`) and categorical columns (`Customer Name`, `Product Category`).\n",
        "*   Total sales varied by month, with the specific trend visible in the generated bar plot.\n",
        "*   'Books' was the top-performing product category based on both total sales and total quantity sold, followed by 'Clothing', 'Electronics', and 'Groceries'.\n",
        "*   The top 10 customers by total spending were identified, with Derek Wright, Lisa Webb, and Christopher Fry having the highest expenditures.\n",
        "\n",
        "### Insights or Next Steps\n",
        "\n",
        "*   Focus marketing and promotional efforts on the 'Books' category to capitalize on its high performance and explore strategies to boost sales in lower-performing categories like 'Groceries'.\n",
        "*   Implement a customer loyalty program targeting the top-spending customers to encourage repeat purchases and potentially increase their average spending.\n"
      ]
    },
    {
      "cell_type": "code",
      "source": [
        "import datetime"
      ],
      "metadata": {
        "id": "fL_FYomPUvc-"
      },
      "execution_count": null,
      "outputs": []
    },
    {
      "cell_type": "markdown",
      "metadata": {
        "id": "3651bc02"
      },
      "source": [
        "# Task\n",
        "Lakukan analisis anomali dan customer lifetime value (jika data lengkap) pada data penjualan."
      ]
    },
    {
      "cell_type": "markdown",
      "metadata": {
        "id": "c24a675f"
      },
      "source": [
        "## Analisis anomali\n",
        "\n",
        "### Subtask:\n",
        "Identifikasi potensi anomali atau outlier dalam data, terutama pada kolom numerik.\n"
      ]
    },
    {
      "cell_type": "markdown",
      "metadata": {
        "id": "f4b26acc"
      },
      "source": [
        "**Reasoning**:\n",
        "Calculate the Z-score for the numerical columns 'Sale', 'Quantity', and 'Price', then identify and display rows where the absolute Z-score exceeds the threshold of 3, marking them as outliers.\n",
        "\n"
      ]
    },
    {
      "cell_type": "code",
      "metadata": {
        "colab": {
          "base_uri": "https://localhost:8080/",
          "height": 192
        },
        "id": "8804d165",
        "outputId": "9c241eb9-f255-404b-a0b0-46dbb73b0f91"
      },
      "source": [
        "numerical_cols = ['Sale', 'Quantity', 'Price']\n",
        "\n",
        "for col in numerical_cols:\n",
        "    data[f'{col}_Zscore'] = (data[col] - data[col].mean()) / data[col].std()\n",
        "\n",
        "outlier_threshold = 3\n",
        "data['Is_Outlier'] = (np.abs(data['Sale_Zscore']) > outlier_threshold) | \\\n",
        "                     (np.abs(data['Quantity_Zscore']) > outlier_threshold) | \\\n",
        "                     (np.abs(data['Price_Zscore']) > outlier_threshold)\n",
        "\n",
        "outliers = data[data['Is_Outlier']]\n",
        "\n",
        "print(\"Baris yang teridentifikasi sebagai outlier:\")\n",
        "display(outliers)"
      ],
      "execution_count": null,
      "outputs": [
        {
          "output_type": "stream",
          "name": "stdout",
          "text": [
            "Baris yang teridentifikasi sebagai outlier:\n"
          ]
        },
        {
          "output_type": "display_data",
          "data": {
            "text/plain": [
              "        Customer Name Purchase Date Product Category    Sale  Quantity  \\\n",
              "172         Mary Peck    2025-03-08         Clothing  495.07        10   \n",
              "331    Joann Ferguson    2025-02-18            Books  495.54         8   \n",
              "790  Melissa Mitchell    2025-03-02         Clothing  492.71        10   \n",
              "954       Eric Arnold    2025-01-28      Electronics  481.43         3   \n",
              "\n",
              "     Discount Applied  Purchase Year  Purchase Month  Purchase Day   Price  \\\n",
              "172             False           2025               3             5  479.07   \n",
              "331              True           2025               2             1  467.54   \n",
              "790             False           2025               3             6  470.71   \n",
              "954              True           2025               1             1  465.43   \n",
              "\n",
              "     Sale_Zscore  Quantity_Zscore  Price_Zscore  Is_Outlier  \n",
              "172     1.709513         1.536138      3.219402        True  \n",
              "331     1.712807         0.839319      3.112614        True  \n",
              "790     1.692972         1.536138      3.141974        True  \n",
              "954     1.613912        -0.902730      3.093072        True  "
            ],
            "text/html": [
              "\n",
              "  <div id=\"df-f6654683-ee62-48d4-8cea-d3f5a38993c9\" class=\"colab-df-container\">\n",
              "    <div>\n",
              "<style scoped>\n",
              "    .dataframe tbody tr th:only-of-type {\n",
              "        vertical-align: middle;\n",
              "    }\n",
              "\n",
              "    .dataframe tbody tr th {\n",
              "        vertical-align: top;\n",
              "    }\n",
              "\n",
              "    .dataframe thead th {\n",
              "        text-align: right;\n",
              "    }\n",
              "</style>\n",
              "<table border=\"1\" class=\"dataframe\">\n",
              "  <thead>\n",
              "    <tr style=\"text-align: right;\">\n",
              "      <th></th>\n",
              "      <th>Customer Name</th>\n",
              "      <th>Purchase Date</th>\n",
              "      <th>Product Category</th>\n",
              "      <th>Sale</th>\n",
              "      <th>Quantity</th>\n",
              "      <th>Discount Applied</th>\n",
              "      <th>Purchase Year</th>\n",
              "      <th>Purchase Month</th>\n",
              "      <th>Purchase Day</th>\n",
              "      <th>Price</th>\n",
              "      <th>Sale_Zscore</th>\n",
              "      <th>Quantity_Zscore</th>\n",
              "      <th>Price_Zscore</th>\n",
              "      <th>Is_Outlier</th>\n",
              "    </tr>\n",
              "  </thead>\n",
              "  <tbody>\n",
              "    <tr>\n",
              "      <th>172</th>\n",
              "      <td>Mary Peck</td>\n",
              "      <td>2025-03-08</td>\n",
              "      <td>Clothing</td>\n",
              "      <td>495.07</td>\n",
              "      <td>10</td>\n",
              "      <td>False</td>\n",
              "      <td>2025</td>\n",
              "      <td>3</td>\n",
              "      <td>5</td>\n",
              "      <td>479.07</td>\n",
              "      <td>1.709513</td>\n",
              "      <td>1.536138</td>\n",
              "      <td>3.219402</td>\n",
              "      <td>True</td>\n",
              "    </tr>\n",
              "    <tr>\n",
              "      <th>331</th>\n",
              "      <td>Joann Ferguson</td>\n",
              "      <td>2025-02-18</td>\n",
              "      <td>Books</td>\n",
              "      <td>495.54</td>\n",
              "      <td>8</td>\n",
              "      <td>True</td>\n",
              "      <td>2025</td>\n",
              "      <td>2</td>\n",
              "      <td>1</td>\n",
              "      <td>467.54</td>\n",
              "      <td>1.712807</td>\n",
              "      <td>0.839319</td>\n",
              "      <td>3.112614</td>\n",
              "      <td>True</td>\n",
              "    </tr>\n",
              "    <tr>\n",
              "      <th>790</th>\n",
              "      <td>Melissa Mitchell</td>\n",
              "      <td>2025-03-02</td>\n",
              "      <td>Clothing</td>\n",
              "      <td>492.71</td>\n",
              "      <td>10</td>\n",
              "      <td>False</td>\n",
              "      <td>2025</td>\n",
              "      <td>3</td>\n",
              "      <td>6</td>\n",
              "      <td>470.71</td>\n",
              "      <td>1.692972</td>\n",
              "      <td>1.536138</td>\n",
              "      <td>3.141974</td>\n",
              "      <td>True</td>\n",
              "    </tr>\n",
              "    <tr>\n",
              "      <th>954</th>\n",
              "      <td>Eric Arnold</td>\n",
              "      <td>2025-01-28</td>\n",
              "      <td>Electronics</td>\n",
              "      <td>481.43</td>\n",
              "      <td>3</td>\n",
              "      <td>True</td>\n",
              "      <td>2025</td>\n",
              "      <td>1</td>\n",
              "      <td>1</td>\n",
              "      <td>465.43</td>\n",
              "      <td>1.613912</td>\n",
              "      <td>-0.902730</td>\n",
              "      <td>3.093072</td>\n",
              "      <td>True</td>\n",
              "    </tr>\n",
              "  </tbody>\n",
              "</table>\n",
              "</div>\n",
              "    <div class=\"colab-df-buttons\">\n",
              "\n",
              "  <div class=\"colab-df-container\">\n",
              "    <button class=\"colab-df-convert\" onclick=\"convertToInteractive('df-f6654683-ee62-48d4-8cea-d3f5a38993c9')\"\n",
              "            title=\"Convert this dataframe to an interactive table.\"\n",
              "            style=\"display:none;\">\n",
              "\n",
              "  <svg xmlns=\"http://www.w3.org/2000/svg\" height=\"24px\" viewBox=\"0 -960 960 960\">\n",
              "    <path d=\"M120-120v-720h720v720H120Zm60-500h600v-160H180v160Zm220 220h160v-160H400v160Zm0 220h160v-160H400v160ZM180-400h160v-160H180v160Zm440 0h160v-160H620v160ZM180-180h160v-160H180v160Zm440 0h160v-160H620v160Z\"/>\n",
              "  </svg>\n",
              "    </button>\n",
              "\n",
              "  <style>\n",
              "    .colab-df-container {\n",
              "      display:flex;\n",
              "      gap: 12px;\n",
              "    }\n",
              "\n",
              "    .colab-df-convert {\n",
              "      background-color: #E8F0FE;\n",
              "      border: none;\n",
              "      border-radius: 50%;\n",
              "      cursor: pointer;\n",
              "      display: none;\n",
              "      fill: #1967D2;\n",
              "      height: 32px;\n",
              "      padding: 0 0 0 0;\n",
              "      width: 32px;\n",
              "    }\n",
              "\n",
              "    .colab-df-convert:hover {\n",
              "      background-color: #E2EBFA;\n",
              "      box-shadow: 0px 1px 2px rgba(60, 64, 67, 0.3), 0px 1px 3px 1px rgba(60, 64, 67, 0.15);\n",
              "      fill: #174EA6;\n",
              "    }\n",
              "\n",
              "    .colab-df-buttons div {\n",
              "      margin-bottom: 4px;\n",
              "    }\n",
              "\n",
              "    [theme=dark] .colab-df-convert {\n",
              "      background-color: #3B4455;\n",
              "      fill: #D2E3FC;\n",
              "    }\n",
              "\n",
              "    [theme=dark] .colab-df-convert:hover {\n",
              "      background-color: #434B5C;\n",
              "      box-shadow: 0px 1px 3px 1px rgba(0, 0, 0, 0.15);\n",
              "      filter: drop-shadow(0px 1px 2px rgba(0, 0, 0, 0.3));\n",
              "      fill: #FFFFFF;\n",
              "    }\n",
              "  </style>\n",
              "\n",
              "    <script>\n",
              "      const buttonEl =\n",
              "        document.querySelector('#df-f6654683-ee62-48d4-8cea-d3f5a38993c9 button.colab-df-convert');\n",
              "      buttonEl.style.display =\n",
              "        google.colab.kernel.accessAllowed ? 'block' : 'none';\n",
              "\n",
              "      async function convertToInteractive(key) {\n",
              "        const element = document.querySelector('#df-f6654683-ee62-48d4-8cea-d3f5a38993c9');\n",
              "        const dataTable =\n",
              "          await google.colab.kernel.invokeFunction('convertToInteractive',\n",
              "                                                    [key], {});\n",
              "        if (!dataTable) return;\n",
              "\n",
              "        const docLinkHtml = 'Like what you see? Visit the ' +\n",
              "          '<a target=\"_blank\" href=https://colab.research.google.com/notebooks/data_table.ipynb>data table notebook</a>'\n",
              "          + ' to learn more about interactive tables.';\n",
              "        element.innerHTML = '';\n",
              "        dataTable['output_type'] = 'display_data';\n",
              "        await google.colab.output.renderOutput(dataTable, element);\n",
              "        const docLink = document.createElement('div');\n",
              "        docLink.innerHTML = docLinkHtml;\n",
              "        element.appendChild(docLink);\n",
              "      }\n",
              "    </script>\n",
              "  </div>\n",
              "\n",
              "\n",
              "    <div id=\"df-cdf61de3-fb34-47c8-9f74-6506eede5854\">\n",
              "      <button class=\"colab-df-quickchart\" onclick=\"quickchart('df-cdf61de3-fb34-47c8-9f74-6506eede5854')\"\n",
              "                title=\"Suggest charts\"\n",
              "                style=\"display:none;\">\n",
              "\n",
              "<svg xmlns=\"http://www.w3.org/2000/svg\" height=\"24px\"viewBox=\"0 0 24 24\"\n",
              "     width=\"24px\">\n",
              "    <g>\n",
              "        <path d=\"M19 3H5c-1.1 0-2 .9-2 2v14c0 1.1.9 2 2 2h14c1.1 0 2-.9 2-2V5c0-1.1-.9-2-2-2zM9 17H7v-7h2v7zm4 0h-2V7h2v10zm4 0h-2v-4h2v4z\"/>\n",
              "    </g>\n",
              "</svg>\n",
              "      </button>\n",
              "\n",
              "<style>\n",
              "  .colab-df-quickchart {\n",
              "      --bg-color: #E8F0FE;\n",
              "      --fill-color: #1967D2;\n",
              "      --hover-bg-color: #E2EBFA;\n",
              "      --hover-fill-color: #174EA6;\n",
              "      --disabled-fill-color: #AAA;\n",
              "      --disabled-bg-color: #DDD;\n",
              "  }\n",
              "\n",
              "  [theme=dark] .colab-df-quickchart {\n",
              "      --bg-color: #3B4455;\n",
              "      --fill-color: #D2E3FC;\n",
              "      --hover-bg-color: #434B5C;\n",
              "      --hover-fill-color: #FFFFFF;\n",
              "      --disabled-bg-color: #3B4455;\n",
              "      --disabled-fill-color: #666;\n",
              "  }\n",
              "\n",
              "  .colab-df-quickchart {\n",
              "    background-color: var(--bg-color);\n",
              "    border: none;\n",
              "    border-radius: 50%;\n",
              "    cursor: pointer;\n",
              "    display: none;\n",
              "    fill: var(--fill-color);\n",
              "    height: 32px;\n",
              "    padding: 0;\n",
              "    width: 32px;\n",
              "  }\n",
              "\n",
              "  .colab-df-quickchart:hover {\n",
              "    background-color: var(--hover-bg-color);\n",
              "    box-shadow: 0 1px 2px rgba(60, 64, 67, 0.3), 0 1px 3px 1px rgba(60, 64, 67, 0.15);\n",
              "    fill: var(--button-hover-fill-color);\n",
              "  }\n",
              "\n",
              "  .colab-df-quickchart-complete:disabled,\n",
              "  .colab-df-quickchart-complete:disabled:hover {\n",
              "    background-color: var(--disabled-bg-color);\n",
              "    fill: var(--disabled-fill-color);\n",
              "    box-shadow: none;\n",
              "  }\n",
              "\n",
              "  .colab-df-spinner {\n",
              "    border: 2px solid var(--fill-color);\n",
              "    border-color: transparent;\n",
              "    border-bottom-color: var(--fill-color);\n",
              "    animation:\n",
              "      spin 1s steps(1) infinite;\n",
              "  }\n",
              "\n",
              "  @keyframes spin {\n",
              "    0% {\n",
              "      border-color: transparent;\n",
              "      border-bottom-color: var(--fill-color);\n",
              "      border-left-color: var(--fill-color);\n",
              "    }\n",
              "    20% {\n",
              "      border-color: transparent;\n",
              "      border-left-color: var(--fill-color);\n",
              "      border-top-color: var(--fill-color);\n",
              "    }\n",
              "    30% {\n",
              "      border-color: transparent;\n",
              "      border-left-color: var(--fill-color);\n",
              "      border-top-color: var(--fill-color);\n",
              "      border-right-color: var(--fill-color);\n",
              "    }\n",
              "    40% {\n",
              "      border-color: transparent;\n",
              "      border-right-color: var(--fill-color);\n",
              "      border-top-color: var(--fill-color);\n",
              "    }\n",
              "    60% {\n",
              "      border-color: transparent;\n",
              "      border-right-color: var(--fill-color);\n",
              "    }\n",
              "    80% {\n",
              "      border-color: transparent;\n",
              "      border-right-color: var(--fill-color);\n",
              "      border-bottom-color: var(--fill-color);\n",
              "    }\n",
              "    90% {\n",
              "      border-color: transparent;\n",
              "      border-bottom-color: var(--fill-color);\n",
              "    }\n",
              "  }\n",
              "</style>\n",
              "\n",
              "      <script>\n",
              "        async function quickchart(key) {\n",
              "          const quickchartButtonEl =\n",
              "            document.querySelector('#' + key + ' button');\n",
              "          quickchartButtonEl.disabled = true;  // To prevent multiple clicks.\n",
              "          quickchartButtonEl.classList.add('colab-df-spinner');\n",
              "          try {\n",
              "            const charts = await google.colab.kernel.invokeFunction(\n",
              "                'suggestCharts', [key], {});\n",
              "          } catch (error) {\n",
              "            console.error('Error during call to suggestCharts:', error);\n",
              "          }\n",
              "          quickchartButtonEl.classList.remove('colab-df-spinner');\n",
              "          quickchartButtonEl.classList.add('colab-df-quickchart-complete');\n",
              "        }\n",
              "        (() => {\n",
              "          let quickchartButtonEl =\n",
              "            document.querySelector('#df-cdf61de3-fb34-47c8-9f74-6506eede5854 button');\n",
              "          quickchartButtonEl.style.display =\n",
              "            google.colab.kernel.accessAllowed ? 'block' : 'none';\n",
              "        })();\n",
              "      </script>\n",
              "    </div>\n",
              "\n",
              "  <div id=\"id_8366db5a-b359-437c-8c2b-1a9b1a5f617a\">\n",
              "    <style>\n",
              "      .colab-df-generate {\n",
              "        background-color: #E8F0FE;\n",
              "        border: none;\n",
              "        border-radius: 50%;\n",
              "        cursor: pointer;\n",
              "        display: none;\n",
              "        fill: #1967D2;\n",
              "        height: 32px;\n",
              "        padding: 0 0 0 0;\n",
              "        width: 32px;\n",
              "      }\n",
              "\n",
              "      .colab-df-generate:hover {\n",
              "        background-color: #E2EBFA;\n",
              "        box-shadow: 0px 1px 2px rgba(60, 64, 67, 0.3), 0px 1px 3px 1px rgba(60, 64, 67, 0.15);\n",
              "        fill: #174EA6;\n",
              "      }\n",
              "\n",
              "      [theme=dark] .colab-df-generate {\n",
              "        background-color: #3B4455;\n",
              "        fill: #D2E3FC;\n",
              "      }\n",
              "\n",
              "      [theme=dark] .colab-df-generate:hover {\n",
              "        background-color: #434B5C;\n",
              "        box-shadow: 0px 1px 3px 1px rgba(0, 0, 0, 0.15);\n",
              "        filter: drop-shadow(0px 1px 2px rgba(0, 0, 0, 0.3));\n",
              "        fill: #FFFFFF;\n",
              "      }\n",
              "    </style>\n",
              "    <button class=\"colab-df-generate\" onclick=\"generateWithVariable('outliers')\"\n",
              "            title=\"Generate code using this dataframe.\"\n",
              "            style=\"display:none;\">\n",
              "\n",
              "  <svg xmlns=\"http://www.w3.org/2000/svg\" height=\"24px\"viewBox=\"0 0 24 24\"\n",
              "       width=\"24px\">\n",
              "    <path d=\"M7,19H8.4L18.45,9,17,7.55,7,17.6ZM5,21V16.75L18.45,3.32a2,2,0,0,1,2.83,0l1.4,1.43a1.91,1.91,0,0,1,.58,1.4,1.91,1.91,0,0,1-.58,1.4L9.25,21ZM18.45,9,17,7.55Zm-12,3A5.31,5.31,0,0,0,4.9,8.1,5.31,5.31,0,0,0,1,6.5,5.31,5.31,0,0,0,4.9,4.9,5.31,5.31,0,0,0,6.5,1,5.31,5.31,0,0,0,8.1,4.9,5.31,5.31,0,0,0,12,6.5,5.46,5.46,0,0,0,6.5,12Z\"/>\n",
              "  </svg>\n",
              "    </button>\n",
              "    <script>\n",
              "      (() => {\n",
              "      const buttonEl =\n",
              "        document.querySelector('#id_8366db5a-b359-437c-8c2b-1a9b1a5f617a button.colab-df-generate');\n",
              "      buttonEl.style.display =\n",
              "        google.colab.kernel.accessAllowed ? 'block' : 'none';\n",
              "\n",
              "      buttonEl.onclick = () => {\n",
              "        google.colab.notebook.generateWithVariable('outliers');\n",
              "      }\n",
              "      })();\n",
              "    </script>\n",
              "  </div>\n",
              "\n",
              "    </div>\n",
              "  </div>\n"
            ],
            "application/vnd.google.colaboratory.intrinsic+json": {
              "type": "dataframe",
              "variable_name": "outliers",
              "summary": "{\n  \"name\": \"outliers\",\n  \"rows\": 4,\n  \"fields\": [\n    {\n      \"column\": \"Customer Name\",\n      \"properties\": {\n        \"dtype\": \"string\",\n        \"num_unique_values\": 4,\n        \"samples\": [\n          \"Joann Ferguson\",\n          \"Eric Arnold\",\n          \"Mary Peck\"\n        ],\n        \"semantic_type\": \"\",\n        \"description\": \"\"\n      }\n    },\n    {\n      \"column\": \"Purchase Date\",\n      \"properties\": {\n        \"dtype\": \"date\",\n        \"min\": \"2025-01-28 00:00:00\",\n        \"max\": \"2025-03-08 00:00:00\",\n        \"num_unique_values\": 4,\n        \"samples\": [\n          \"2025-02-18 00:00:00\",\n          \"2025-01-28 00:00:00\",\n          \"2025-03-08 00:00:00\"\n        ],\n        \"semantic_type\": \"\",\n        \"description\": \"\"\n      }\n    },\n    {\n      \"column\": \"Product Category\",\n      \"properties\": {\n        \"dtype\": \"string\",\n        \"num_unique_values\": 3,\n        \"samples\": [\n          \"Clothing\",\n          \"Books\",\n          \"Electronics\"\n        ],\n        \"semantic_type\": \"\",\n        \"description\": \"\"\n      }\n    },\n    {\n      \"column\": \"Sale\",\n      \"properties\": {\n        \"dtype\": \"number\",\n        \"std\": 6.621804260672966,\n        \"min\": 481.43,\n        \"max\": 495.54,\n        \"num_unique_values\": 4,\n        \"samples\": [\n          495.54,\n          481.43,\n          495.07\n        ],\n        \"semantic_type\": \"\",\n        \"description\": \"\"\n      }\n    },\n    {\n      \"column\": \"Quantity\",\n      \"properties\": {\n        \"dtype\": \"number\",\n        \"std\": 3,\n        \"min\": 3,\n        \"max\": 10,\n        \"num_unique_values\": 3,\n        \"samples\": [\n          10,\n          8,\n          3\n        ],\n        \"semantic_type\": \"\",\n        \"description\": \"\"\n      }\n    },\n    {\n      \"column\": \"Discount Applied\",\n      \"properties\": {\n        \"dtype\": \"boolean\",\n        \"num_unique_values\": 2,\n        \"samples\": [\n          true,\n          false\n        ],\n        \"semantic_type\": \"\",\n        \"description\": \"\"\n      }\n    },\n    {\n      \"column\": \"Purchase Year\",\n      \"properties\": {\n        \"dtype\": \"number\",\n        \"std\": 0,\n        \"min\": 2025,\n        \"max\": 2025,\n        \"num_unique_values\": 1,\n        \"samples\": [\n          2025\n        ],\n        \"semantic_type\": \"\",\n        \"description\": \"\"\n      }\n    },\n    {\n      \"column\": \"Purchase Month\",\n      \"properties\": {\n        \"dtype\": \"number\",\n        \"std\": 0,\n        \"min\": 1,\n        \"max\": 3,\n        \"num_unique_values\": 3,\n        \"samples\": [\n          3\n        ],\n        \"semantic_type\": \"\",\n        \"description\": \"\"\n      }\n    },\n    {\n      \"column\": \"Purchase Day\",\n      \"properties\": {\n        \"dtype\": \"number\",\n        \"std\": 2,\n        \"min\": 1,\n        \"max\": 6,\n        \"num_unique_values\": 3,\n        \"samples\": [\n          5\n        ],\n        \"semantic_type\": \"\",\n        \"description\": \"\"\n      }\n    },\n    {\n      \"column\": \"Price\",\n      \"properties\": {\n        \"dtype\": \"number\",\n        \"std\": 5.994855433341705,\n        \"min\": 465.43,\n        \"max\": 479.07,\n        \"num_unique_values\": 4,\n        \"samples\": [\n          467.54\n        ],\n        \"semantic_type\": \"\",\n        \"description\": \"\"\n      }\n    },\n    {\n      \"column\": \"Sale_Zscore\",\n      \"properties\": {\n        \"dtype\": \"number\",\n        \"std\": 0.04641157639275295,\n        \"min\": 1.613911592158759,\n        \"max\": 1.7128071978158177,\n        \"num_unique_values\": 4,\n        \"samples\": [\n          1.7128071978158177\n        ],\n        \"semantic_type\": \"\",\n        \"description\": \"\"\n      }\n    },\n    {\n      \"column\": \"Quantity_Zscore\",\n      \"properties\": {\n        \"dtype\": \"number\",\n        \"std\": 1.1511588736365002,\n        \"min\": -0.9027295392890646,\n        \"max\": 1.5361383785123448,\n        \"num_unique_values\": 3,\n        \"samples\": [\n          1.5361383785123448\n        ],\n        \"semantic_type\": \"\",\n        \"description\": \"\"\n      }\n    },\n    {\n      \"column\": \"Price_Zscore\",\n      \"properties\": {\n        \"dtype\": \"number\",\n        \"std\": 0.05552251843083254,\n        \"min\": 3.0930721992778483,\n        \"max\": 3.2194017096084084,\n        \"num_unique_values\": 4,\n        \"samples\": [\n          3.1126143742630012\n        ],\n        \"semantic_type\": \"\",\n        \"description\": \"\"\n      }\n    },\n    {\n      \"column\": \"Is_Outlier\",\n      \"properties\": {\n        \"dtype\": \"boolean\",\n        \"num_unique_values\": 1,\n        \"samples\": [\n          true\n        ],\n        \"semantic_type\": \"\",\n        \"description\": \"\"\n      }\n    }\n  ]\n}"
            }
          },
          "metadata": {}
        }
      ]
    },
    {
      "cell_type": "markdown",
      "metadata": {
        "id": "1dfed755"
      },
      "source": [
        "## Customer lifetime value (clv)\n",
        "\n",
        "### Subtask:\n",
        "Jika data memungkinkan (memiliki informasi yang cukup untuk menghitung frekuensi pembelian, nilai pembelian rata-rata, dan umur pelanggan), hitung dan analisis CLV.\n"
      ]
    },
    {
      "cell_type": "markdown",
      "metadata": {
        "id": "0f422c2f"
      },
      "source": [
        "**Reasoning**:\n",
        "Check if the necessary columns for CLV calculation exist and then calculate the purchase frequency, average purchase value, and customer lifespan for each customer. Finally, calculate the basic CLV and display the CLV for the top 10 customers.\n",
        "\n"
      ]
    },
    {
      "cell_type": "code",
      "metadata": {
        "colab": {
          "base_uri": "https://localhost:8080/",
          "height": 446
        },
        "id": "4dfbf164",
        "outputId": "a8a56b05-516f-4a70-870e-b48e9c9bd064"
      },
      "source": [
        "required_cols = ['Customer Name', 'Purchase Date', 'Sale']\n",
        "if all(col in data.columns for col in required_cols):\n",
        "    print(\"Dataframe memiliki kolom yang diperlukan untuk menghitung CLV.\")\n",
        "\n",
        "    # Hitung frekuensi pembelian per pelanggan\n",
        "    customer_frequency = data.groupby('Customer Name').size().rename('Purchase Frequency')\n",
        "\n",
        "    # Hitung nilai pembelian rata-rata per pelanggan\n",
        "    customer_avg_sale = data.groupby('Customer Name')['Sale'].mean().rename('Average Purchase Value')\n",
        "\n",
        "    # Hitung umur pelanggan\n",
        "    customer_lifespan = data.groupby('Customer Name')['Purchase Date'].agg(['min', 'max'])\n",
        "    customer_lifespan['Lifespan_Days'] = (customer_lifespan['max'] - customer_lifespan['min']).dt.days\n",
        "\n",
        "    # Gabungkan hasil\n",
        "    customer_clv_data = pd.DataFrame({\n",
        "        'Purchase Frequency': customer_frequency,\n",
        "        'Average Purchase Value': customer_avg_sale,\n",
        "        'Lifespan_Days': customer_lifespan['Lifespan_Days']\n",
        "    })\n",
        "\n",
        "    # Hitung CLV dasar\n",
        "    # Handle cases where lifespan is 0 days (single purchase) to avoid division by zero or zero CLV\n",
        "    # For simplicity in this basic calculation, we'll treat lifespan as 1 day for single purchases\n",
        "    customer_clv_data['Lifespan_Days'] = customer_clv_data['Lifespan_Days'].replace(0, 1)\n",
        "\n",
        "    customer_clv_data['CLV'] = customer_clv_data['Average Purchase Value'] * customer_clv_data['Purchase Frequency'] * customer_clv_data['Lifespan_Days']\n",
        "\n",
        "    # Tampilkan CLV untuk beberapa pelanggan teratas\n",
        "    print(\"\\nCLV untuk Top 10 Pelanggan:\")\n",
        "    display(customer_clv_data.sort_values(by='CLV', ascending=False).head(10))\n",
        "\n",
        "else:\n",
        "    print(\"Dataframe tidak memiliki kolom yang diperlukan untuk menghitung CLV.\")"
      ],
      "execution_count": null,
      "outputs": [
        {
          "output_type": "stream",
          "name": "stdout",
          "text": [
            "Dataframe memiliki kolom yang diperlukan untuk menghitung CLV.\n",
            "\n",
            "CLV untuk Top 10 Pelanggan:\n"
          ]
        },
        {
          "output_type": "display_data",
          "data": {
            "text/plain": [
              "                  Purchase Frequency  Average Purchase Value  Lifespan_Days  \\\n",
              "Customer Name                                                                 \n",
              "Joseph Williams                    2                 271.960            122   \n",
              "Derek Wright                       2                 352.370             77   \n",
              "Lisa Webb                          2                 329.080             72   \n",
              "Juan Smith                         2                 243.850             43   \n",
              "David Garcia                       2                 171.175             46   \n",
              "Danielle Reed                      2                  99.540             62   \n",
              "Christopher Fry                    2                 287.585             21   \n",
              "Elizabeth Mendez                   2                 170.215             21   \n",
              "Melissa Taylor                     1                 499.990              1   \n",
              "Kathleen Parker                    1                 499.800              1   \n",
              "\n",
              "                       CLV  \n",
              "Customer Name               \n",
              "Joseph Williams   66358.24  \n",
              "Derek Wright      54264.98  \n",
              "Lisa Webb         47387.52  \n",
              "Juan Smith        20971.10  \n",
              "David Garcia      15748.10  \n",
              "Danielle Reed     12342.96  \n",
              "Christopher Fry   12078.57  \n",
              "Elizabeth Mendez   7149.03  \n",
              "Melissa Taylor      499.99  \n",
              "Kathleen Parker     499.80  "
            ],
            "text/html": [
              "\n",
              "  <div id=\"df-2f23ef6d-2aa5-472b-a71d-f15f7d65c340\" class=\"colab-df-container\">\n",
              "    <div>\n",
              "<style scoped>\n",
              "    .dataframe tbody tr th:only-of-type {\n",
              "        vertical-align: middle;\n",
              "    }\n",
              "\n",
              "    .dataframe tbody tr th {\n",
              "        vertical-align: top;\n",
              "    }\n",
              "\n",
              "    .dataframe thead th {\n",
              "        text-align: right;\n",
              "    }\n",
              "</style>\n",
              "<table border=\"1\" class=\"dataframe\">\n",
              "  <thead>\n",
              "    <tr style=\"text-align: right;\">\n",
              "      <th></th>\n",
              "      <th>Purchase Frequency</th>\n",
              "      <th>Average Purchase Value</th>\n",
              "      <th>Lifespan_Days</th>\n",
              "      <th>CLV</th>\n",
              "    </tr>\n",
              "    <tr>\n",
              "      <th>Customer Name</th>\n",
              "      <th></th>\n",
              "      <th></th>\n",
              "      <th></th>\n",
              "      <th></th>\n",
              "    </tr>\n",
              "  </thead>\n",
              "  <tbody>\n",
              "    <tr>\n",
              "      <th>Joseph Williams</th>\n",
              "      <td>2</td>\n",
              "      <td>271.960</td>\n",
              "      <td>122</td>\n",
              "      <td>66358.24</td>\n",
              "    </tr>\n",
              "    <tr>\n",
              "      <th>Derek Wright</th>\n",
              "      <td>2</td>\n",
              "      <td>352.370</td>\n",
              "      <td>77</td>\n",
              "      <td>54264.98</td>\n",
              "    </tr>\n",
              "    <tr>\n",
              "      <th>Lisa Webb</th>\n",
              "      <td>2</td>\n",
              "      <td>329.080</td>\n",
              "      <td>72</td>\n",
              "      <td>47387.52</td>\n",
              "    </tr>\n",
              "    <tr>\n",
              "      <th>Juan Smith</th>\n",
              "      <td>2</td>\n",
              "      <td>243.850</td>\n",
              "      <td>43</td>\n",
              "      <td>20971.10</td>\n",
              "    </tr>\n",
              "    <tr>\n",
              "      <th>David Garcia</th>\n",
              "      <td>2</td>\n",
              "      <td>171.175</td>\n",
              "      <td>46</td>\n",
              "      <td>15748.10</td>\n",
              "    </tr>\n",
              "    <tr>\n",
              "      <th>Danielle Reed</th>\n",
              "      <td>2</td>\n",
              "      <td>99.540</td>\n",
              "      <td>62</td>\n",
              "      <td>12342.96</td>\n",
              "    </tr>\n",
              "    <tr>\n",
              "      <th>Christopher Fry</th>\n",
              "      <td>2</td>\n",
              "      <td>287.585</td>\n",
              "      <td>21</td>\n",
              "      <td>12078.57</td>\n",
              "    </tr>\n",
              "    <tr>\n",
              "      <th>Elizabeth Mendez</th>\n",
              "      <td>2</td>\n",
              "      <td>170.215</td>\n",
              "      <td>21</td>\n",
              "      <td>7149.03</td>\n",
              "    </tr>\n",
              "    <tr>\n",
              "      <th>Melissa Taylor</th>\n",
              "      <td>1</td>\n",
              "      <td>499.990</td>\n",
              "      <td>1</td>\n",
              "      <td>499.99</td>\n",
              "    </tr>\n",
              "    <tr>\n",
              "      <th>Kathleen Parker</th>\n",
              "      <td>1</td>\n",
              "      <td>499.800</td>\n",
              "      <td>1</td>\n",
              "      <td>499.80</td>\n",
              "    </tr>\n",
              "  </tbody>\n",
              "</table>\n",
              "</div>\n",
              "    <div class=\"colab-df-buttons\">\n",
              "\n",
              "  <div class=\"colab-df-container\">\n",
              "    <button class=\"colab-df-convert\" onclick=\"convertToInteractive('df-2f23ef6d-2aa5-472b-a71d-f15f7d65c340')\"\n",
              "            title=\"Convert this dataframe to an interactive table.\"\n",
              "            style=\"display:none;\">\n",
              "\n",
              "  <svg xmlns=\"http://www.w3.org/2000/svg\" height=\"24px\" viewBox=\"0 -960 960 960\">\n",
              "    <path d=\"M120-120v-720h720v720H120Zm60-500h600v-160H180v160Zm220 220h160v-160H400v160Zm0 220h160v-160H400v160ZM180-400h160v-160H180v160Zm440 0h160v-160H620v160ZM180-180h160v-160H180v160Zm440 0h160v-160H620v160Z\"/>\n",
              "  </svg>\n",
              "    </button>\n",
              "\n",
              "  <style>\n",
              "    .colab-df-container {\n",
              "      display:flex;\n",
              "      gap: 12px;\n",
              "    }\n",
              "\n",
              "    .colab-df-convert {\n",
              "      background-color: #E8F0FE;\n",
              "      border: none;\n",
              "      border-radius: 50%;\n",
              "      cursor: pointer;\n",
              "      display: none;\n",
              "      fill: #1967D2;\n",
              "      height: 32px;\n",
              "      padding: 0 0 0 0;\n",
              "      width: 32px;\n",
              "    }\n",
              "\n",
              "    .colab-df-convert:hover {\n",
              "      background-color: #E2EBFA;\n",
              "      box-shadow: 0px 1px 2px rgba(60, 64, 67, 0.3), 0px 1px 3px 1px rgba(60, 64, 67, 0.15);\n",
              "      fill: #174EA6;\n",
              "    }\n",
              "\n",
              "    .colab-df-buttons div {\n",
              "      margin-bottom: 4px;\n",
              "    }\n",
              "\n",
              "    [theme=dark] .colab-df-convert {\n",
              "      background-color: #3B4455;\n",
              "      fill: #D2E3FC;\n",
              "    }\n",
              "\n",
              "    [theme=dark] .colab-df-convert:hover {\n",
              "      background-color: #434B5C;\n",
              "      box-shadow: 0px 1px 3px 1px rgba(0, 0, 0, 0.15);\n",
              "      filter: drop-shadow(0px 1px 2px rgba(0, 0, 0, 0.3));\n",
              "      fill: #FFFFFF;\n",
              "    }\n",
              "  </style>\n",
              "\n",
              "    <script>\n",
              "      const buttonEl =\n",
              "        document.querySelector('#df-2f23ef6d-2aa5-472b-a71d-f15f7d65c340 button.colab-df-convert');\n",
              "      buttonEl.style.display =\n",
              "        google.colab.kernel.accessAllowed ? 'block' : 'none';\n",
              "\n",
              "      async function convertToInteractive(key) {\n",
              "        const element = document.querySelector('#df-2f23ef6d-2aa5-472b-a71d-f15f7d65c340');\n",
              "        const dataTable =\n",
              "          await google.colab.kernel.invokeFunction('convertToInteractive',\n",
              "                                                    [key], {});\n",
              "        if (!dataTable) return;\n",
              "\n",
              "        const docLinkHtml = 'Like what you see? Visit the ' +\n",
              "          '<a target=\"_blank\" href=https://colab.research.google.com/notebooks/data_table.ipynb>data table notebook</a>'\n",
              "          + ' to learn more about interactive tables.';\n",
              "        element.innerHTML = '';\n",
              "        dataTable['output_type'] = 'display_data';\n",
              "        await google.colab.output.renderOutput(dataTable, element);\n",
              "        const docLink = document.createElement('div');\n",
              "        docLink.innerHTML = docLinkHtml;\n",
              "        element.appendChild(docLink);\n",
              "      }\n",
              "    </script>\n",
              "  </div>\n",
              "\n",
              "\n",
              "    <div id=\"df-8ab4c429-bd00-453b-9ff7-5a067634d39c\">\n",
              "      <button class=\"colab-df-quickchart\" onclick=\"quickchart('df-8ab4c429-bd00-453b-9ff7-5a067634d39c')\"\n",
              "                title=\"Suggest charts\"\n",
              "                style=\"display:none;\">\n",
              "\n",
              "<svg xmlns=\"http://www.w3.org/2000/svg\" height=\"24px\"viewBox=\"0 0 24 24\"\n",
              "     width=\"24px\">\n",
              "    <g>\n",
              "        <path d=\"M19 3H5c-1.1 0-2 .9-2 2v14c0 1.1.9 2 2 2h14c1.1 0 2-.9 2-2V5c0-1.1-.9-2-2-2zM9 17H7v-7h2v7zm4 0h-2V7h2v10zm4 0h-2v-4h2v4z\"/>\n",
              "    </g>\n",
              "</svg>\n",
              "      </button>\n",
              "\n",
              "<style>\n",
              "  .colab-df-quickchart {\n",
              "      --bg-color: #E8F0FE;\n",
              "      --fill-color: #1967D2;\n",
              "      --hover-bg-color: #E2EBFA;\n",
              "      --hover-fill-color: #174EA6;\n",
              "      --disabled-fill-color: #AAA;\n",
              "      --disabled-bg-color: #DDD;\n",
              "  }\n",
              "\n",
              "  [theme=dark] .colab-df-quickchart {\n",
              "      --bg-color: #3B4455;\n",
              "      --fill-color: #D2E3FC;\n",
              "      --hover-bg-color: #434B5C;\n",
              "      --hover-fill-color: #FFFFFF;\n",
              "      --disabled-bg-color: #3B4455;\n",
              "      --disabled-fill-color: #666;\n",
              "  }\n",
              "\n",
              "  .colab-df-quickchart {\n",
              "    background-color: var(--bg-color);\n",
              "    border: none;\n",
              "    border-radius: 50%;\n",
              "    cursor: pointer;\n",
              "    display: none;\n",
              "    fill: var(--fill-color);\n",
              "    height: 32px;\n",
              "    padding: 0;\n",
              "    width: 32px;\n",
              "  }\n",
              "\n",
              "  .colab-df-quickchart:hover {\n",
              "    background-color: var(--hover-bg-color);\n",
              "    box-shadow: 0 1px 2px rgba(60, 64, 67, 0.3), 0 1px 3px 1px rgba(60, 64, 67, 0.15);\n",
              "    fill: var(--button-hover-fill-color);\n",
              "  }\n",
              "\n",
              "  .colab-df-quickchart-complete:disabled,\n",
              "  .colab-df-quickchart-complete:disabled:hover {\n",
              "    background-color: var(--disabled-bg-color);\n",
              "    fill: var(--disabled-fill-color);\n",
              "    box-shadow: none;\n",
              "  }\n",
              "\n",
              "  .colab-df-spinner {\n",
              "    border: 2px solid var(--fill-color);\n",
              "    border-color: transparent;\n",
              "    border-bottom-color: var(--fill-color);\n",
              "    animation:\n",
              "      spin 1s steps(1) infinite;\n",
              "  }\n",
              "\n",
              "  @keyframes spin {\n",
              "    0% {\n",
              "      border-color: transparent;\n",
              "      border-bottom-color: var(--fill-color);\n",
              "      border-left-color: var(--fill-color);\n",
              "    }\n",
              "    20% {\n",
              "      border-color: transparent;\n",
              "      border-left-color: var(--fill-color);\n",
              "      border-top-color: var(--fill-color);\n",
              "    }\n",
              "    30% {\n",
              "      border-color: transparent;\n",
              "      border-left-color: var(--fill-color);\n",
              "      border-top-color: var(--fill-color);\n",
              "      border-right-color: var(--fill-color);\n",
              "    }\n",
              "    40% {\n",
              "      border-color: transparent;\n",
              "      border-right-color: var(--fill-color);\n",
              "      border-top-color: var(--fill-color);\n",
              "    }\n",
              "    60% {\n",
              "      border-color: transparent;\n",
              "      border-right-color: var(--fill-color);\n",
              "    }\n",
              "    80% {\n",
              "      border-color: transparent;\n",
              "      border-right-color: var(--fill-color);\n",
              "      border-bottom-color: var(--fill-color);\n",
              "    }\n",
              "    90% {\n",
              "      border-color: transparent;\n",
              "      border-bottom-color: var(--fill-color);\n",
              "    }\n",
              "  }\n",
              "</style>\n",
              "\n",
              "      <script>\n",
              "        async function quickchart(key) {\n",
              "          const quickchartButtonEl =\n",
              "            document.querySelector('#' + key + ' button');\n",
              "          quickchartButtonEl.disabled = true;  // To prevent multiple clicks.\n",
              "          quickchartButtonEl.classList.add('colab-df-spinner');\n",
              "          try {\n",
              "            const charts = await google.colab.kernel.invokeFunction(\n",
              "                'suggestCharts', [key], {});\n",
              "          } catch (error) {\n",
              "            console.error('Error during call to suggestCharts:', error);\n",
              "          }\n",
              "          quickchartButtonEl.classList.remove('colab-df-spinner');\n",
              "          quickchartButtonEl.classList.add('colab-df-quickchart-complete');\n",
              "        }\n",
              "        (() => {\n",
              "          let quickchartButtonEl =\n",
              "            document.querySelector('#df-8ab4c429-bd00-453b-9ff7-5a067634d39c button');\n",
              "          quickchartButtonEl.style.display =\n",
              "            google.colab.kernel.accessAllowed ? 'block' : 'none';\n",
              "        })();\n",
              "      </script>\n",
              "    </div>\n",
              "\n",
              "    </div>\n",
              "  </div>\n"
            ],
            "application/vnd.google.colaboratory.intrinsic+json": {
              "type": "dataframe",
              "summary": "{\n  \"name\": \"    print(\\\"Dataframe tidak memiliki kolom yang diperlukan untuk menghitung CLV\",\n  \"rows\": 10,\n  \"fields\": [\n    {\n      \"column\": \"Customer Name\",\n      \"properties\": {\n        \"dtype\": \"string\",\n        \"num_unique_values\": 10,\n        \"samples\": [\n          \"Melissa Taylor\",\n          \"Derek Wright\",\n          \"Danielle Reed\"\n        ],\n        \"semantic_type\": \"\",\n        \"description\": \"\"\n      }\n    },\n    {\n      \"column\": \"Purchase Frequency\",\n      \"properties\": {\n        \"dtype\": \"number\",\n        \"std\": 0,\n        \"min\": 1,\n        \"max\": 2,\n        \"num_unique_values\": 2,\n        \"samples\": [\n          1,\n          2\n        ],\n        \"semantic_type\": \"\",\n        \"description\": \"\"\n      }\n    },\n    {\n      \"column\": \"Average Purchase Value\",\n      \"properties\": {\n        \"dtype\": \"number\",\n        \"std\": 133.61124422596743,\n        \"min\": 99.53999999999999,\n        \"max\": 499.99,\n        \"num_unique_values\": 10,\n        \"samples\": [\n          499.99,\n          352.37\n        ],\n        \"semantic_type\": \"\",\n        \"description\": \"\"\n      }\n    },\n    {\n      \"column\": \"Lifespan_Days\",\n      \"properties\": {\n        \"dtype\": \"number\",\n        \"std\": 37,\n        \"min\": 1,\n        \"max\": 122,\n        \"num_unique_values\": 8,\n        \"samples\": [\n          77,\n          62\n        ],\n        \"semantic_type\": \"\",\n        \"description\": \"\"\n      }\n    },\n    {\n      \"column\": \"CLV\",\n      \"properties\": {\n        \"dtype\": \"number\",\n        \"std\": 23570.643187018064,\n        \"min\": 499.8,\n        \"max\": 66358.24,\n        \"num_unique_values\": 10,\n        \"samples\": [\n          499.99,\n          54264.98\n        ],\n        \"semantic_type\": \"\",\n        \"description\": \"\"\n      }\n    }\n  ]\n}"
            }
          },
          "metadata": {}
        }
      ]
    },
    {
      "cell_type": "markdown",
      "metadata": {
        "id": "f82bfc29"
      },
      "source": [
        "## Summary:\n",
        "\n",
        "### Data Analysis Key Findings\n",
        "\n",
        "*   Empat baris diidentifikasi sebagai outlier berdasarkan Z-score pada kolom `Sale`, `Quantity`, atau `Price` dengan threshold 3. Outlier ini didorong terutama oleh nilai `Price` yang tinggi.\n",
        "*   Data memiliki kolom yang diperlukan (`Customer Name`, `Purchase Date`, `Sale`) untuk menghitung Customer Lifetime Value (CLV).\n",
        "*   CLV dasar dihitung untuk setiap pelanggan menggunakan formula: CLV = (Nilai Pembelian Rata-rata) \\* (Frekuensi Pembelian) \\* (Umur Pelanggan dalam Hari).\n",
        "*   Pelanggan dengan hanya satu pembelian diberi umur 1 hari untuk perhitungan CLV.\n",
        "*   10 pelanggan teratas berdasarkan nilai CLV mereka berhasil diidentifikasi dan ditampilkan.\n",
        "\n",
        "### Insights or Next Steps\n",
        "\n",
        "*   Investigasi lebih lanjut terhadap outlier yang teridentifikasi untuk memahami penyebab nilai yang ekstrem dan menentukan apakah tindakan korektif diperlukan (misalnya, pembersihan data atau analisis terpisah).\n",
        "*   Gunakan nilai CLV yang dihitung untuk strategi pemasaran yang ditargetkan, program loyalitas, atau identifikasi pelanggan bernilai tinggi.\n"
      ]
    },
    {
      "cell_type": "markdown",
      "metadata": {
        "id": "abc8701e"
      },
      "source": [
        "## Visualisasi Insight\n",
        "\n",
        "Berdasarkan analisis sebelumnya, kita akan memvisualisasikan wawasan utama untuk pemahaman yang lebih baik."
      ]
    },
    {
      "cell_type": "markdown",
      "metadata": {
        "id": "bb1daa32"
      },
      "source": [
        "### Total Penjualan per Bulan\n",
        "\n",
        "Visualisasi total penjualan untuk setiap bulan."
      ]
    },
    {
      "cell_type": "code",
      "metadata": {
        "colab": {
          "base_uri": "https://localhost:8080/",
          "height": 607
        },
        "id": "da35deb7",
        "outputId": "7cdf7257-3be4-4109-9145-49cc3b7ed75b"
      },
      "source": [
        "# Pastikan monthly_sales sudah dihitung dari analisis sebelumnya\n",
        "# monthly_sales = data.groupby('Purchase Month')['Sale'].sum()\n",
        "\n",
        "plt.figure(figsize=(10, 6))\n",
        "monthly_sales.plot(kind='bar')\n",
        "plt.title('Total Penjualan per Bulan')\n",
        "plt.xlabel('Bulan')\n",
        "plt.ylabel('Total Penjualan')\n",
        "plt.xticks(rotation=0)\n",
        "plt.tight_layout()\n",
        "plt.show()"
      ],
      "execution_count": null,
      "outputs": [
        {
          "output_type": "display_data",
          "data": {
            "text/plain": [
              "<Figure size 1000x600 with 1 Axes>"
            ],
            "image/png": "[encoded data removed]"
          },
          "metadata": {}
        }
      ]
    },
    {
      "cell_type": "markdown",
      "metadata": {
        "id": "3f89d15d"
      },
      "source": [
        "### Kinerja Kategori Produk (Penjualan)\n",
        "\n",
        "Visualisasi total penjualan per kategori produk."
      ]
    },
    {
      "cell_type": "code",
      "metadata": {
        "colab": {
          "base_uri": "https://localhost:8080/",
          "height": 607
        },
        "id": "c39f49b2",
        "outputId": "22589cd8-b19b-44b7-a9c7-9a9fac5386d2"
      },
      "source": [
        "# Pastikan product_sales sudah dihitung dari analisis sebelumnya\n",
        "# product_sales = data.groupby('Product Category')['Sale'].sum().sort_values(ascending=False)\n",
        "\n",
        "plt.figure(figsize=(10, 6))\n",
        "product_sales.plot(kind='bar')\n",
        "plt.title('Total Penjualan per Kategori Produk')\n",
        "plt.xlabel('Kategori Produk')\n",
        "plt.ylabel('Total Penjualan')\n",
        "plt.xticks(rotation=45, ha='right')\n",
        "plt.tight_layout()\n",
        "plt.show()"
      ],
      "execution_count": null,
      "outputs": [
        {
          "output_type": "display_data",
          "data": {
            "text/plain": [
              "<Figure size 1000x600 with 1 Axes>"
            ],
            "image/png": "[encoded data removed]"
          },
          "metadata": {}
        }
      ]
    },
    {
      "cell_type": "markdown",
      "metadata": {
        "id": "911fcd73"
      },
      "source": [
        "### Kinerja Kategori Produk (Kuantitas Terjual)\n",
        "\n",
        "Visualisasi total kuantitas terjual per kategori produk."
      ]
    },
    {
      "cell_type": "code",
      "metadata": {
        "colab": {
          "base_uri": "https://localhost:8080/",
          "height": 607
        },
        "id": "83398e0a",
        "outputId": "c7cef54b-3cb4-4d51-dbcb-6af2f637eb1e"
      },
      "source": [
        "# Pastikan product_quantity sudah dihitung dari analisis sebelumnya\n",
        "# product_quantity = data.groupby('Product Category')['Quantity'].sum().sort_values(ascending=False)\n",
        "\n",
        "plt.figure(figsize=(10, 6))\n",
        "product_quantity.plot(kind='bar')\n",
        "plt.title('Total Kuantitas Terjual per Kategori Produk')\n",
        "plt.xlabel('Kategori Produk')\n",
        "plt.ylabel('Total Kuantitas Terjual')\n",
        "plt.xticks(rotation=45, ha='right')\n",
        "plt.tight_layout()\n",
        "plt.show()"
      ],
      "execution_count": null,
      "outputs": [
        {
          "output_type": "display_data",
          "data": {
            "text/plain": [
              "<Figure size 1000x600 with 1 Axes>"
            ],
            "image/png": "[encoded data removed]"
          },
          "metadata": {}
        }
      ]
    },
    {
      "cell_type": "markdown",
      "metadata": {
        "id": "a767b1d9"
      },
      "source": [
        "### Top 10 Pelanggan Berdasarkan Total Pengeluaran\n",
        "\n",
        "Visualisasi 10 pelanggan teratas berdasarkan total pengeluaran mereka."
      ]
    },
    {
      "cell_type": "code",
      "metadata": {
        "colab": {
          "base_uri": "https://localhost:8080/",
          "height": 607
        },
        "id": "7494913d",
        "outputId": "4fbf6d5c-1124-4ab1-fed0-52d4e835d0de"
      },
      "source": [
        "# Pastikan customer_spending sudah dihitung dari analisis sebelumnya\n",
        "# customer_spending = data.groupby('Customer Name')['Sale'].sum().sort_values(ascending=False)\n",
        "\n",
        "plt.figure(figsize=(12, 6))\n",
        "customer_spending.head(10).plot(kind='bar')\n",
        "plt.title('Top 10 Pelanggan Berdasarkan Total Pengeluaran')\n",
        "plt.xlabel('Nama Pelanggan')\n",
        "plt.ylabel('Total Pengeluaran')\n",
        "plt.xticks(rotation=45, ha='right')\n",
        "plt.tight_layout()\n",
        "plt.show()"
      ],
      "execution_count": null,
      "outputs": [
        {
          "output_type": "display_data",
          "data": {
            "text/plain": [
              "<Figure size 1200x600 with 1 Axes>"
            ],
            "image/png": "[encoded data removed]"
          },
          "metadata": {}
        }
      ]
    },
    {
      "cell_type": "markdown",
      "metadata": {
        "id": "12165f46"
      },
      "source": [
        "### Top 10 Pelanggan Berdasarkan CLV\n",
        "\n",
        "Visualisasi 10 pelanggan teratas berdasarkan nilai CLV mereka."
      ]
    },
    {
      "cell_type": "code",
      "metadata": {
        "colab": {
          "base_uri": "https://localhost:8080/",
          "height": 607
        },
        "id": "53277e4d",
        "outputId": "b8d0273a-a5eb-457a-bb46-9373e3642667"
      },
      "source": [
        "# Pastikan customer_clv_data sudah dihitung dari analisis sebelumnya\n",
        "# customer_clv_data sudah berisi kolom 'CLV'\n",
        "\n",
        "plt.figure(figsize=(12, 6))\n",
        "customer_clv_data.sort_values(by='CLV', ascending=False).head(10)['CLV'].plot(kind='bar')\n",
        "plt.title('Top 10 Pelanggan Berdasarkan CLV')\n",
        "plt.xlabel('Nama Pelanggan')\n",
        "plt.ylabel('CLV')\n",
        "plt.xticks(rotation=45, ha='right')\n",
        "plt.tight_layout()\n",
        "plt.show()"
      ],
      "execution_count": null,
      "outputs": [
        {
          "output_type": "display_data",
          "data": {
            "text/plain": [
              "<Figure size 1200x600 with 1 Axes>"
            ],
            "image/png": "[encoded data removed]"
          },
          "metadata": {}
        }
      ]
    },
    {
      "cell_type": "markdown",
      "metadata": {
        "id": "d148f1a4"
      },
      "source": [
        "# Task\n",
        "Export hasil analisis (data tabular dan grafik) ke Google Drive."
      ]
    },
    {
      "cell_type": "markdown",
      "metadata": {
        "id": "f13f2c64"
      },
      "source": [
        "## Export data tabular ke csv\n",
        "\n",
        "### Subtask:\n",
        "Simpan DataFrame atau Series yang relevan (`monthly_sales`, `product_sales`, `product_quantity`, `customer_spending`, `customer_clv_data`) ke file CSV di Google Drive Anda.\n"
      ]
    },
    {
      "cell_type": "markdown",
      "metadata": {
        "id": "dfa9df9c"
      },
      "source": [
        "**Reasoning**:\n",
        "Save the relevant Series and DataFrame to CSV files in Google Drive without including the index.\n",
        "\n"
      ]
    },
    {
      "cell_type": "code",
      "metadata": {
        "colab": {
          "base_uri": "https://localhost:8080/"
        },
        "id": "17669df9",
        "outputId": "c64c03ed-a73e-40e2-d5af-6b8821a2d487"
      },
      "source": [
        "monthly_sales.to_csv('/content/drive/MyDrive/monthly_sales.csv', index=False)\n",
        "product_sales.to_csv('/content/drive/MyDrive/product_sales.csv', index=False)\n",
        "product_quantity.to_csv('/content/drive/MyDrive/product_quantity.csv', index=False)\n",
        "customer_spending.to_csv('/content/drive/MyDrive/customer_spending.csv', index=False)\n",
        "customer_clv_data.to_csv('/content/drive/MyDrive/customer_clv_data.csv', index=False)\n",
        "print(\"Files saved to Google Drive:\")\n",
        "print(\"- monthly_sales.csv\")\n",
        "print(\"- product_sales.csv\")\n",
        "print(\"- product_quantity.csv\")\n",
        "print(\"- customer_spending.csv\")\n",
        "print(\"- customer_clv_data.csv\")"
      ],
      "execution_count": null,
      "outputs": [
        {
          "output_type": "stream",
          "name": "stdout",
          "text": [
            "Files saved to Google Drive:\n",
            "- monthly_sales.csv\n",
            "- product_sales.csv\n",
            "- product_quantity.csv\n",
            "- customer_spending.csv\n",
            "- customer_clv_data.csv\n"
          ]
        }
      ]
    },
    {
      "cell_type": "markdown",
      "metadata": {
        "id": "5b7bc5db"
      },
      "source": [
        "## Export grafik ke file gambar\n",
        "\n",
        "### Subtask:\n",
        "Simpan setiap plot yang telah dibuat sebagai file gambar (misalnya, PNG atau JPEG) di Google Drive Anda.\n"
      ]
    },
    {
      "cell_type": "markdown",
      "metadata": {
        "id": "cd049e9c"
      },
      "source": [
        "**Reasoning**:\n",
        "Save each plot generated in the previous analysis steps as image files to Google Drive.\n",
        "\n"
      ]
    },
    {
      "cell_type": "code",
      "metadata": {
        "colab": {
          "base_uri": "https://localhost:8080/"
        },
        "id": "ea05cc75",
        "outputId": "cf526c67-f6dc-4a60-a519-76caf6e4cd34"
      },
      "source": [
        "# Save the monthly sales plot\n",
        "plt.figure(figsize=(10, 6))\n",
        "monthly_sales.plot(kind='bar')\n",
        "plt.title('Total Penjualan per Bulan')\n",
        "plt.xlabel('Bulan')\n",
        "plt.ylabel('Total Penjualan')\n",
        "plt.xticks(rotation=0)\n",
        "plt.tight_layout()\n",
        "plt.savefig('/content/drive/MyDrive/monthly_sales_plot.png')\n",
        "plt.close() # Close the plot to free up memory\n",
        "\n",
        "# Save the product sales plot\n",
        "plt.figure(figsize=(10, 6))\n",
        "product_sales.plot(kind='bar')\n",
        "plt.title('Total Penjualan per Kategori Produk')\n",
        "plt.xlabel('Kategori Produk')\n",
        "plt.ylabel('Total Penjualan')\n",
        "plt.xticks(rotation=45, ha='right')\n",
        "plt.tight_layout()\n",
        "plt.savefig('/content/drive/MyDrive/product_sales_plot.png')\n",
        "plt.close() # Close the plot\n",
        "\n",
        "# Save the product quantity plot\n",
        "plt.figure(figsize=(10, 6))\n",
        "product_quantity.plot(kind='bar')\n",
        "plt.title('Total Kuantitas Terjual per Kategori Produk')\n",
        "plt.xlabel('Kategori Produk')\n",
        "plt.ylabel('Total Kuantitas Terjual')\n",
        "plt.xticks(rotation=45, ha='right')\n",
        "plt.tight_layout()\n",
        "plt.savefig('/content/drive/MyDrive/product_quantity_plot.png')\n",
        "plt.close() # Close the plot\n",
        "\n",
        "# Save the top 10 spending customers plot\n",
        "plt.figure(figsize=(12, 6))\n",
        "customer_spending.head(10).plot(kind='bar')\n",
        "plt.title('Top 10 Pelanggan Berdasarkan Total Pengeluaran')\n",
        "plt.xlabel('Nama Pelanggan')\n",
        "plt.ylabel('Total Pengeluaran')\n",
        "plt.xticks(rotation=45, ha='right')\n",
        "plt.tight_layout()\n",
        "plt.savefig('/content/drive/MyDrive/top_10_spending_customers_plot.png')\n",
        "plt.close() # Close the plot\n",
        "\n",
        "# Save the top 10 CLV customers plot\n",
        "plt.figure(figsize=(12, 6))\n",
        "customer_clv_data.sort_values(by='CLV', ascending=False).head(10)['CLV'].plot(kind='bar')\n",
        "plt.title('Top 10 Pelanggan Berdasarkan CLV')\n",
        "plt.xlabel('Nama Pelanggan')\n",
        "plt.ylabel('CLV')\n",
        "plt.xticks(rotation=45, ha='right')\n",
        "plt.tight_layout()\n",
        "plt.savefig('/content/drive/MyDrive/top_10_clv_customers_plot.png')\n",
        "plt.close() # Close the plot\n",
        "\n",
        "print(\"Plots saved to Google Drive.\")"
      ],
      "execution_count": null,
      "outputs": [
        {
          "output_type": "stream",
          "name": "stdout",
          "text": [
            "Plots saved to Google Drive.\n"
          ]
        }
      ]
    },
    {
      "cell_type": "markdown",
      "metadata": {
        "id": "2ce17efd"
      },
      "source": [
        "## Summary:\n",
        "\n",
        "### Data Analysis Key Findings\n",
        "\n",
        "*   Five different data analysis results (monthly sales, product sales, product quantity, customer spending, and customer CLV data) were successfully exported as CSV files to Google Drive.\n",
        "*   Five different plots (monthly sales, product sales, product quantity, top 10 spending customers, and top 10 CLV customers) were successfully exported as PNG image files to Google Drive.\n",
        "\n",
        "### Insights or Next Steps\n",
        "\n",
        "*   These exported files in Google Drive can be easily shared with stakeholders or used for further reporting and presentations.\n"
      ]
    }
  ]
}