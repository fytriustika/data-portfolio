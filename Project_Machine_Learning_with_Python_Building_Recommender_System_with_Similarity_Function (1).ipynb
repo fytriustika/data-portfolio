{
  "nbformat": 4,
  "nbformat_minor": 0,
  "metadata": {
    "colab": {
      "provenance": []
    },
    "kernelspec": {
      "name": "python3",
      "display_name": "Python 3"
    },
    "language_info": {
      "name": "python"
    }
  },
  "cells": [
    {
      "cell_type": "markdown",
      "source": [
        "## **Project Machine Learning with Python Building Recommender System with Similarity Function**"
      ],
      "metadata": {
        "id": "yO1tMXDapISr"
      }
    },
    {
      "cell_type": "markdown",
      "source": [
        "# Project Scenario \n",
        "\n",
        "I will make a recommender system that uses the content/features of the film/entity, then calculates the similarities between one and the other so that when we point to one film, we will get several other films that have something in common with that film. We usually refer to this as a Content Based Recommender System.\n",
        "\n",
        "\n",
        "By comparing the similarity of existing plots and existing genres, when the audience prefers Narnia films, this content based recommender system will also recommend films such as Harry Potter or The Lords of The Rings which have a similar genre."
      ],
      "metadata": {
        "id": "tS3CSKnUfROR"
      }
    },
    {
      "cell_type": "markdown",
      "source": [
        "# Import Basics Library and File Unloading"
      ],
      "metadata": {
        "id": "-sneP3OYgUzw"
      }
    },
    {
      "cell_type": "markdown",
      "source": [],
      "metadata": {
        "id": "9RepOZ9Hpid3"
      }
    },
    {
      "cell_type": "code",
      "source": [
        "import pandas as pd\n",
        "import numpy as np\n",
        "pd.set_option('display.max_columns', None)"
      ],
      "metadata": {
        "id": "EWX36SZCS7G1"
      },
      "execution_count": null,
      "outputs": []
    },
    {
      "cell_type": "code",
      "source": [
        "movie_rating_df = pd.read_csv('https://storage.googleapis.com/dqlab-dataset/movie_rating_df.csv')"
      ],
      "metadata": {
        "id": "q36sm5k-S-CI"
      },
      "execution_count": null,
      "outputs": []
    },
    {
      "cell_type": "code",
      "source": [
        "print(movie_rating_df.head())"
      ],
      "metadata": {
        "colab": {
          "base_uri": "https://localhost:8080/"
        },
        "id": "UlQ3uKc2T8EJ",
        "outputId": "073ef39e-ff26-4b37-9906-c14436adb50a"
      },
      "execution_count": null,
      "outputs": [
        {
          "output_type": "stream",
          "name": "stdout",
          "text": [
            "      tconst titleType            primaryTitle           originalTitle  \\\n",
            "0  tt0000001     short              Carmencita              Carmencita   \n",
            "1  tt0000002     short  Le clown et ses chiens  Le clown et ses chiens   \n",
            "2  tt0000003     short          Pauvre Pierrot          Pauvre Pierrot   \n",
            "3  tt0000004     short             Un bon bock             Un bon bock   \n",
            "4  tt0000005     short        Blacksmith Scene        Blacksmith Scene   \n",
            "\n",
            "   isAdult  startYear  endYear  runtimeMinutes                    genres  \\\n",
            "0        0     1894.0      NaN             1.0         Documentary,Short   \n",
            "1        0     1892.0      NaN             5.0           Animation,Short   \n",
            "2        0     1892.0      NaN             4.0  Animation,Comedy,Romance   \n",
            "3        0     1892.0      NaN            12.0           Animation,Short   \n",
            "4        0     1893.0      NaN             1.0              Comedy,Short   \n",
            "\n",
            "   averageRating  numVotes  \n",
            "0            5.6      1608  \n",
            "1            6.0       197  \n",
            "2            6.5      1285  \n",
            "3            6.1       121  \n",
            "4            6.1      2050  \n"
          ]
        }
      ]
    },
    {
      "cell_type": "code",
      "source": [
        "print(movie_rating_df.info())"
      ],
      "metadata": {
        "colab": {
          "base_uri": "https://localhost:8080/"
        },
        "id": "_UaROb7fT9J_",
        "outputId": "a754d6e3-a496-44c5-8927-285fb3b847f8"
      },
      "execution_count": null,
      "outputs": [
        {
          "output_type": "stream",
          "name": "stdout",
          "text": [
            "<class 'pandas.core.frame.DataFrame'>\n",
            "RangeIndex: 751614 entries, 0 to 751613\n",
            "Data columns (total 11 columns):\n",
            " #   Column          Non-Null Count   Dtype  \n",
            "---  ------          --------------   -----  \n",
            " 0   tconst          751614 non-null  object \n",
            " 1   titleType       751614 non-null  object \n",
            " 2   primaryTitle    751614 non-null  object \n",
            " 3   originalTitle   751614 non-null  object \n",
            " 4   isAdult         751614 non-null  int64  \n",
            " 5   startYear       751614 non-null  float64\n",
            " 6   endYear         16072 non-null   float64\n",
            " 7   runtimeMinutes  751614 non-null  float64\n",
            " 8   genres          486766 non-null  object \n",
            " 9   averageRating   751614 non-null  float64\n",
            " 10  numVotes        751614 non-null  int64  \n",
            "dtypes: float64(4), int64(2), object(5)\n",
            "memory usage: 63.1+ MB\n",
            "None\n"
          ]
        }
      ]
    },
    {
      "cell_type": "markdown",
      "source": [
        "# Add Actors Dataframe"
      ],
      "metadata": {
        "id": "GODuKKZRkKdn"
      }
    },
    {
      "cell_type": "code",
      "source": [
        "name_df = name_df[['nconst','primaryName','knownForTitles']]\n",
        "\n",
        "print(name_df.head())\n",
        "print(name_df.info())"
      ],
      "metadata": {
        "colab": {
          "base_uri": "https://localhost:8080/"
        },
        "id": "PmA1sGxDY1Ht",
        "outputId": "a389fc5f-34b3-49e7-f0d7-493b0cfbe77e"
      },
      "execution_count": 24,
      "outputs": [
        {
          "output_type": "stream",
          "name": "stdout",
          "text": [
            "       nconst          primaryName  \\\n",
            "0   nm1774132    Nathan McLaughlin   \n",
            "1  nm10683464        Bridge Andrew   \n",
            "2   nm1021485    Brandon Fransvaag   \n",
            "3   nm6940929   Erwin van der Lely   \n",
            "4   nm5764974  Svetlana Shypitsyna   \n",
            "\n",
            "                                 knownForTitles  \n",
            "0  [tt0417686, tt1713976, tt1891860, tt0454839]  \n",
            "1                                   [tt7718088]  \n",
            "2                                   [tt0168790]  \n",
            "3                                   [tt4232168]  \n",
            "4                                   [tt3014168]  \n",
            "<class 'pandas.core.frame.DataFrame'>\n",
            "RangeIndex: 1000 entries, 0 to 999\n",
            "Data columns (total 3 columns):\n",
            " #   Column          Non-Null Count  Dtype \n",
            "---  ------          --------------  ----- \n",
            " 0   nconst          1000 non-null   object\n",
            " 1   primaryName     1000 non-null   object\n",
            " 2   knownForTitles  1000 non-null   object\n",
            "dtypes: object(3)\n",
            "memory usage: 23.6+ KB\n",
            "None\n"
          ]
        }
      ]
    },
    {
      "cell_type": "markdown",
      "source": [
        "# Add Directors and Writers Dataframe"
      ],
      "metadata": {
        "id": "_2_mCikskSgj"
      }
    },
    {
      "cell_type": "code",
      "source": [
        "director_writers = pd.read_csv('https://dqlab-dataset.s3-ap-southeast-1.amazonaws.com/directors_writers.csv')\n",
        "\n",
        "print(director_writers.head())\n",
        "print(director_writers.info())"
      ],
      "metadata": {
        "colab": {
          "base_uri": "https://localhost:8080/"
        },
        "id": "pF1s03YRkYLT",
        "outputId": "26ed64e5-54a0-455c-d1b5-7eb065d37e9f"
      },
      "execution_count": 26,
      "outputs": [
        {
          "output_type": "stream",
          "name": "stdout",
          "text": [
            "      tconst                   director_name  \\\n",
            "0  tt0011414                  David Kirkland   \n",
            "1  tt0011890               Roy William Neill   \n",
            "2  tt0014341  Buster Keaton,John G. Blystone   \n",
            "3  tt0018054                Cecil B. DeMille   \n",
            "4  tt0024151                     James Cruze   \n",
            "\n",
            "                                       writer_name  \n",
            "0                          John Emerson,Anita Loos  \n",
            "1     Arthur F. Goodrich,Burns Mantle,Mary Murillo  \n",
            "2  Jean C. Havez,Clyde Bruckman,Joseph A. Mitchell  \n",
            "3                                Jeanie Macpherson  \n",
            "4                 Max Miller,Wells Root,Jack Jevne  \n",
            "<class 'pandas.core.frame.DataFrame'>\n",
            "RangeIndex: 986 entries, 0 to 985\n",
            "Data columns (total 3 columns):\n",
            " #   Column         Non-Null Count  Dtype \n",
            "---  ------         --------------  ----- \n",
            " 0   tconst         986 non-null    object\n",
            " 1   director_name  986 non-null    object\n",
            " 2   writer_name    986 non-null    object\n",
            "dtypes: object(3)\n",
            "memory usage: 23.2+ KB\n",
            "None\n"
          ]
        }
      ]
    },
    {
      "cell_type": "markdown",
      "source": [
        "# Convert into List"
      ],
      "metadata": {
        "id": "Ws5ldwjMkg4q"
      }
    },
    {
      "cell_type": "code",
      "source": [
        "director_writers['director_name'] = director_writers['director_name'].apply(lambda row: row.split(','))\n",
        "director_writers['writer_name'] = director_writers['writer_name'].apply(lambda row: row.split(','))\n",
        "\n",
        "print(director_writers.head())"
      ],
      "metadata": {
        "colab": {
          "base_uri": "https://localhost:8080/"
        },
        "id": "0n8iXDnFkqS-",
        "outputId": "57ce4c49-70fc-4b88-8054-55b70017f258"
      },
      "execution_count": 27,
      "outputs": [
        {
          "output_type": "stream",
          "name": "stdout",
          "text": [
            "      tconst                      director_name  \\\n",
            "0  tt0011414                   [David Kirkland]   \n",
            "1  tt0011890                [Roy William Neill]   \n",
            "2  tt0014341  [Buster Keaton, John G. Blystone]   \n",
            "3  tt0018054                 [Cecil B. DeMille]   \n",
            "4  tt0024151                      [James Cruze]   \n",
            "\n",
            "                                         writer_name  \n",
            "0                         [John Emerson, Anita Loos]  \n",
            "1   [Arthur F. Goodrich, Burns Mantle, Mary Murillo]  \n",
            "2  [Jean C. Havez, Clyde Bruckman, Joseph A. Mitc...  \n",
            "3                                [Jeanie Macpherson]  \n",
            "4               [Max Miller, Wells Root, Jack Jevne]  \n"
          ]
        }
      ]
    },
    {
      "cell_type": "markdown",
      "source": [
        "# Update name_df"
      ],
      "metadata": {
        "id": "ib8mIN5kkzi3"
      }
    },
    {
      "cell_type": "code",
      "source": [
        "#it only takes the nconst, primaryName, and knownForTitles fields\n",
        "name_df = name_df[['nconst','primaryName','knownForTitles']]\n",
        "\n",
        "print(name_df.head())"
      ],
      "metadata": {
        "colab": {
          "base_uri": "https://localhost:8080/"
        },
        "id": "wQPkMsFpk7n0",
        "outputId": "cff16e6f-e775-4a5e-b0b3-7bd8636534e9"
      },
      "execution_count": 28,
      "outputs": [
        {
          "output_type": "stream",
          "name": "stdout",
          "text": [
            "       nconst          primaryName  \\\n",
            "0   nm1774132    Nathan McLaughlin   \n",
            "1  nm10683464        Bridge Andrew   \n",
            "2   nm1021485    Brandon Fransvaag   \n",
            "3   nm6940929   Erwin van der Lely   \n",
            "4   nm5764974  Svetlana Shypitsyna   \n",
            "\n",
            "                                 knownForTitles  \n",
            "0  [tt0417686, tt1713976, tt1891860, tt0454839]  \n",
            "1                                   [tt7718088]  \n",
            "2                                   [tt0168790]  \n",
            "3                                   [tt4232168]  \n",
            "4                                   [tt3014168]  \n"
          ]
        }
      ]
    },
    {
      "cell_type": "markdown",
      "source": [
        "# Korespondensi 1 - 1"
      ],
      "metadata": {
        "id": "3F7uoxr9fPMD"
      }
    },
    {
      "cell_type": "code",
      "source": [
        "import numpy as np\n",
        "\n",
        "df_uni = []\n",
        "\n",
        "for x in ['knownForTitles']:\n",
        "\tidx = name_df.index.repeat(name_df['knownForTitles'].str.len())\n",
        "\n",
        "\t\n",
        "\tdf1 = pd.DataFrame({\n",
        "\t\tx: np.concatenate(name_df[x].values)\n",
        "\t})\n",
        "\n",
        "\tdf1.index = idx\n",
        "\n",
        "\tdf_uni.append(df1)\n",
        "\n",
        "\n",
        "df_concat = pd.concat(df_uni, axis=1)\n",
        "\n",
        "\n",
        "unnested_df = df_concat.join(name_df.drop(['knownForTitles'], 1), how='left')\n",
        "\n",
        "\n",
        "unnested_df = unnested_df[name_df.columns.tolist()]\n",
        "print(unnested_df)"
      ],
      "metadata": {
        "colab": {
          "base_uri": "https://localhost:8080/"
        },
        "id": "VCpA_KQMmX-S",
        "outputId": "623d0567-3ead-4101-8a86-e33c13d167b0"
      },
      "execution_count": 34,
      "outputs": [
        {
          "output_type": "stream",
          "name": "stdout",
          "text": [
            "         nconst        primaryName knownForTitles\n",
            "0     nm1774132  Nathan McLaughlin      tt0417686\n",
            "0     nm1774132  Nathan McLaughlin      tt1713976\n",
            "0     nm1774132  Nathan McLaughlin      tt1891860\n",
            "0     nm1774132  Nathan McLaughlin      tt0454839\n",
            "1    nm10683464      Bridge Andrew      tt7718088\n",
            "..          ...                ...            ...\n",
            "998   nm5245804      Eliza Jenkins      tt1464058\n",
            "999   nm0948460         Greg Yolen      tt0436869\n",
            "999   nm0948460         Greg Yolen      tt0476663\n",
            "999   nm0948460         Greg Yolen      tt0109723\n",
            "999   nm0948460         Greg Yolen      tt0364484\n",
            "\n",
            "[1918 rows x 3 columns]\n"
          ]
        },
        {
          "output_type": "stream",
          "name": "stderr",
          "text": [
            "<ipython-input-34-40fc694460c6>:21: FutureWarning: In a future version of pandas all arguments of DataFrame.drop except for the argument 'labels' will be keyword-only.\n",
            "  unnested_df = df_concat.join(name_df.drop(['knownForTitles'], 1), how='left')\n"
          ]
        }
      ]
    },
    {
      "cell_type": "code",
      "source": [
        "unnested_drop = unnested_df.drop(['nconst'], axis=1)\n",
        "\n",
        "df_uni = []\n",
        "\n",
        "for col in ['primaryName']:\n",
        "    \n",
        "    dfi = unnested_drop.groupby(['knownForTitles'])[col].apply(list)\n",
        "    #append\n",
        "    df_uni.append(dfi)\n",
        "df_grouped = pd.concat(df_uni, axis=1).reset_index()\n",
        "df_grouped.columns = ['knownForTitles','cast_name']\n",
        "print(df_grouped)"
      ],
      "metadata": {
        "colab": {
          "base_uri": "https://localhost:8080/"
        },
        "id": "9ZoKDkfgmlNb",
        "outputId": "4b6d2f77-741c-46bf-d583-c8ff6dd9f3f5"
      },
      "execution_count": 35,
      "outputs": [
        {
          "output_type": "stream",
          "name": "stdout",
          "text": [
            "     knownForTitles           cast_name\n",
            "0         tt0008125    [Charles Harley]\n",
            "1         tt0009706    [Charles Harley]\n",
            "2         tt0010304  [Natalie Talmadge]\n",
            "3         tt0011414  [Natalie Talmadge]\n",
            "4         tt0011890  [Natalie Talmadge]\n",
            "...             ...                 ...\n",
            "1893      tt9610496  [Stefano Baffetti]\n",
            "1894      tt9714030        [Kevin Kain]\n",
            "1895      tt9741820   [Caroline Plyler]\n",
            "1896      tt9759814     [Ethan Francis]\n",
            "1897      tt9856236     [Nuala Maguire]\n",
            "\n",
            "[1898 rows x 2 columns]\n"
          ]
        }
      ]
    },
    {
      "cell_type": "markdown",
      "source": [
        "# Join Table"
      ],
      "metadata": {
        "id": "2y7_rvD4msuz"
      }
    },
    {
      "cell_type": "code",
      "source": [
        "movie_rating_df = pd.read_csv('https://dqlab-dataset.s3-ap-southeast-1.amazonaws.com/movie_rating_df.csv')\n",
        "base_df = pd.merge(df_grouped, movie_rating_df, left_on='knownForTitles', right_on='tconst', how='inner')\n",
        "base_df = pd.merge(base_df, director_writers, left_on='tconst', right_on='tconst', how='left')\n",
        "\n",
        "print(base_df.head())"
      ],
      "metadata": {
        "colab": {
          "base_uri": "https://localhost:8080/"
        },
        "id": "QPHU24bbmlVl",
        "outputId": "081a6a66-ff32-4726-eb86-2b5a24889fbf"
      },
      "execution_count": 36,
      "outputs": [
        {
          "output_type": "stream",
          "name": "stdout",
          "text": [
            "  knownForTitles           cast_name     tconst titleType  \\\n",
            "0      tt0011414  [Natalie Talmadge]  tt0011414     movie   \n",
            "1      tt0011890  [Natalie Talmadge]  tt0011890     movie   \n",
            "2      tt0014341  [Natalie Talmadge]  tt0014341     movie   \n",
            "3      tt0018054     [Reeka Roberts]  tt0018054     movie   \n",
            "4      tt0024151     [James Hackett]  tt0024151     movie   \n",
            "\n",
            "             primaryTitle           originalTitle  isAdult  startYear  \\\n",
            "0         The Love Expert         The Love Expert        0     1920.0   \n",
            "1               Yes or No               Yes or No        0     1920.0   \n",
            "2         Our Hospitality         Our Hospitality        0     1923.0   \n",
            "3       The King of Kings       The King of Kings        0     1927.0   \n",
            "4  I Cover the Waterfront  I Cover the Waterfront        0     1933.0   \n",
            "\n",
            "   endYear  runtimeMinutes                   genres  averageRating  numVotes  \\\n",
            "0      NaN            60.0           Comedy,Romance            4.9       136   \n",
            "1      NaN            72.0                      NaN            6.3         7   \n",
            "2      NaN            65.0  Comedy,Romance,Thriller            7.8      9621   \n",
            "3      NaN           155.0  Biography,Drama,History            7.3      1826   \n",
            "4      NaN            80.0            Drama,Romance            6.3       455   \n",
            "\n",
            "                       director_name  \\\n",
            "0                   [David Kirkland]   \n",
            "1                [Roy William Neill]   \n",
            "2  [Buster Keaton, John G. Blystone]   \n",
            "3                 [Cecil B. DeMille]   \n",
            "4                      [James Cruze]   \n",
            "\n",
            "                                         writer_name  \n",
            "0                         [John Emerson, Anita Loos]  \n",
            "1   [Arthur F. Goodrich, Burns Mantle, Mary Murillo]  \n",
            "2  [Jean C. Havez, Clyde Bruckman, Joseph A. Mitc...  \n",
            "3                                [Jeanie Macpherson]  \n",
            "4               [Max Miller, Wells Root, Jack Jevne]  \n"
          ]
        }
      ]
    },
    {
      "cell_type": "markdown",
      "source": [
        "# Cleaning Data"
      ],
      "metadata": {
        "id": "eRTHtxFVm2Km"
      }
    },
    {
      "cell_type": "code",
      "source": [
        "base_drop = base_df.drop(['knownForTitles'], axis=1)\n",
        "print(base_drop.info())\n",
        "\n",
        "base_drop['genres'] = base_drop['genres'].fillna('Unknown')\n",
        "print(base_drop.isnull().sum())\n",
        "\n",
        "base_drop[['director_name','writer_name']] = base_drop[['director_name','writer_name']].fillna('unknown')\n",
        "base_drop['genres'] = base_drop['genres'].apply(lambda x: x.split(','))"
      ],
      "metadata": {
        "colab": {
          "base_uri": "https://localhost:8080/"
        },
        "id": "ZmdrvNhkm4gi",
        "outputId": "b920e9ab-b053-48e0-a68f-560fa712a7fb"
      },
      "execution_count": 37,
      "outputs": [
        {
          "output_type": "stream",
          "name": "stdout",
          "text": [
            "<class 'pandas.core.frame.DataFrame'>\n",
            "Int64Index: 1060 entries, 0 to 1059\n",
            "Data columns (total 14 columns):\n",
            " #   Column          Non-Null Count  Dtype  \n",
            "---  ------          --------------  -----  \n",
            " 0   cast_name       1060 non-null   object \n",
            " 1   tconst          1060 non-null   object \n",
            " 2   titleType       1060 non-null   object \n",
            " 3   primaryTitle    1060 non-null   object \n",
            " 4   originalTitle   1060 non-null   object \n",
            " 5   isAdult         1060 non-null   int64  \n",
            " 6   startYear       1060 non-null   float64\n",
            " 7   endYear         110 non-null    float64\n",
            " 8   runtimeMinutes  1060 non-null   float64\n",
            " 9   genres          745 non-null    object \n",
            " 10  averageRating   1060 non-null   float64\n",
            " 11  numVotes        1060 non-null   int64  \n",
            " 12  director_name   986 non-null    object \n",
            " 13  writer_name     986 non-null    object \n",
            "dtypes: float64(4), int64(2), object(8)\n",
            "memory usage: 124.2+ KB\n",
            "None\n",
            "cast_name           0\n",
            "tconst              0\n",
            "titleType           0\n",
            "primaryTitle        0\n",
            "originalTitle       0\n",
            "isAdult             0\n",
            "startYear           0\n",
            "endYear           950\n",
            "runtimeMinutes      0\n",
            "genres              0\n",
            "averageRating       0\n",
            "numVotes            0\n",
            "director_name      74\n",
            "writer_name        74\n",
            "dtype: int64\n"
          ]
        }
      ]
    },
    {
      "cell_type": "markdown",
      "source": [
        "# Reformat table base_df"
      ],
      "metadata": {
        "id": "qn0XcC3EnJ1m"
      }
    },
    {
      "cell_type": "code",
      "source": [
        "base_drop2 = base_drop.drop(['tconst','isAdult','endYear','originalTitle'], axis=1)\n",
        "\n",
        "base_drop2 = base_drop2[['primaryTitle','titleType','startYear','runtimeMinutes','genres','averageRating','numVotes','cast_name','director_name','writer_name']]\n",
        "\n",
        "base_drop2.columns = ['title','type','start','duration','genres','rating','votes','cast_name','director_name','writer_name']\n",
        "print(base_drop2.head())"
      ],
      "metadata": {
        "colab": {
          "base_uri": "https://localhost:8080/"
        },
        "id": "8w2r_XPUnPr7",
        "outputId": "5022633d-0953-4fd1-c0c8-fbfe6291020c"
      },
      "execution_count": 38,
      "outputs": [
        {
          "output_type": "stream",
          "name": "stdout",
          "text": [
            "                    title   type   start  duration  \\\n",
            "0         The Love Expert  movie  1920.0      60.0   \n",
            "1               Yes or No  movie  1920.0      72.0   \n",
            "2         Our Hospitality  movie  1923.0      65.0   \n",
            "3       The King of Kings  movie  1927.0     155.0   \n",
            "4  I Cover the Waterfront  movie  1933.0      80.0   \n",
            "\n",
            "                        genres  rating  votes           cast_name  \\\n",
            "0            [Comedy, Romance]     4.9    136  [Natalie Talmadge]   \n",
            "1                    [Unknown]     6.3      7  [Natalie Talmadge]   \n",
            "2  [Comedy, Romance, Thriller]     7.8   9621  [Natalie Talmadge]   \n",
            "3  [Biography, Drama, History]     7.3   1826     [Reeka Roberts]   \n",
            "4             [Drama, Romance]     6.3    455     [James Hackett]   \n",
            "\n",
            "                       director_name  \\\n",
            "0                   [David Kirkland]   \n",
            "1                [Roy William Neill]   \n",
            "2  [Buster Keaton, John G. Blystone]   \n",
            "3                 [Cecil B. DeMille]   \n",
            "4                      [James Cruze]   \n",
            "\n",
            "                                         writer_name  \n",
            "0                         [John Emerson, Anita Loos]  \n",
            "1   [Arthur F. Goodrich, Burns Mantle, Mary Murillo]  \n",
            "2  [Jean C. Havez, Clyde Bruckman, Joseph A. Mitc...  \n",
            "3                                [Jeanie Macpherson]  \n",
            "4               [Max Miller, Wells Root, Jack Jevne]  \n"
          ]
        }
      ]
    },
    {
      "cell_type": "markdown",
      "source": [
        "# Classification Metadata"
      ],
      "metadata": {
        "id": "QAR758u6nWw0"
      }
    },
    {
      "cell_type": "code",
      "source": [
        "feature_df = base_drop2[['title', 'cast_name', 'genres', 'director_name', 'writer_name']]\n",
        "\n",
        "print(feature_df.head())"
      ],
      "metadata": {
        "colab": {
          "base_uri": "https://localhost:8080/"
        },
        "id": "2MpetgX4nbch",
        "outputId": "25456444-0b61-477b-831e-77b35e4e9dc5"
      },
      "execution_count": 39,
      "outputs": [
        {
          "output_type": "stream",
          "name": "stdout",
          "text": [
            "                    title           cast_name                       genres  \\\n",
            "0         The Love Expert  [Natalie Talmadge]            [Comedy, Romance]   \n",
            "1               Yes or No  [Natalie Talmadge]                    [Unknown]   \n",
            "2         Our Hospitality  [Natalie Talmadge]  [Comedy, Romance, Thriller]   \n",
            "3       The King of Kings     [Reeka Roberts]  [Biography, Drama, History]   \n",
            "4  I Cover the Waterfront     [James Hackett]             [Drama, Romance]   \n",
            "\n",
            "                       director_name  \\\n",
            "0                   [David Kirkland]   \n",
            "1                [Roy William Neill]   \n",
            "2  [Buster Keaton, John G. Blystone]   \n",
            "3                 [Cecil B. DeMille]   \n",
            "4                      [James Cruze]   \n",
            "\n",
            "                                         writer_name  \n",
            "0                         [John Emerson, Anita Loos]  \n",
            "1   [Arthur F. Goodrich, Burns Mantle, Mary Murillo]  \n",
            "2  [Jean C. Havez, Clyde Bruckman, Joseph A. Mitc...  \n",
            "3                                [Jeanie Macpherson]  \n",
            "4               [Max Miller, Wells Root, Jack Jevne]  \n"
          ]
        }
      ]
    },
    {
      "cell_type": "markdown",
      "source": [
        "# Question 1: How do I create a function to strip spaces of each row and each of its elements?"
      ],
      "metadata": {
        "id": "-buacEVUnkOm"
      }
    },
    {
      "cell_type": "code",
      "source": [
        "def sanitize(x):\n",
        "    try:\n",
        "      \n",
        "        if isinstance(x, list):\n",
        "            return [i.replace(' ','').lower() for i in x]\n",
        "        \n",
        "        else:\n",
        "            return [x.replace(' ','').lower()]\n",
        "    except:\n",
        "        print(x)\n",
        "        \n",
        "      \n",
        "feature_cols = ['cast_name','genres','writer_name','director_name']\n",
        "\n",
        "for col in feature_cols:\n",
        "    feature_df[col] = feature_df[col].apply(sanitize)"
      ],
      "metadata": {
        "id": "1odP7rEInmqL"
      },
      "execution_count": null,
      "outputs": []
    },
    {
      "cell_type": "markdown",
      "source": [
        "# Question 2: How do I create a function to make metadata soup (combine all features into 1 sentence) for each title?"
      ],
      "metadata": {
        "id": "qEXd1htNnvj0"
      }
    },
    {
      "cell_type": "code",
      "source": [
        "def soup_feature(x):\n",
        "    return ' '.join(x['cast_name']) + ' ' + ' '.join(x['genres']) + ' ' + ' '.join(x['director_name']) + ' ' + ' '.join(x['writer_name'])\n",
        "\n",
        "\n",
        "feature_df['soup'] = feature_df.apply(soup_feature, axis=1)"
      ],
      "metadata": {
        "id": "MfH7iR-2nywX"
      },
      "execution_count": null,
      "outputs": []
    },
    {
      "cell_type": "markdown",
      "source": [
        "# Question 3: How to prepare a CountVectorizer (stop_words = english) and fit the soup we made above"
      ],
      "metadata": {
        "id": "YnbYEsfsoETP"
      }
    },
    {
      "cell_type": "code",
      "source": [
        "#import CountVectorizer \n",
        "from sklearn.feature_extraction.text import CountVectorizer\n",
        "\n",
        "count = CountVectorizer(stop_words='english')\n",
        "count_matrix = count.fit_transform(feature_df['soup'])\n",
        "\n",
        "print(count)\n",
        "print(count_matrix.shape)"
      ],
      "metadata": {
        "colab": {
          "base_uri": "https://localhost:8080/"
        },
        "id": "FZAKjbEvoG0Z",
        "outputId": "1994ba1a-ba66-46c9-e1d0-ad6d1c9f033e"
      },
      "execution_count": 42,
      "outputs": [
        {
          "output_type": "stream",
          "name": "stdout",
          "text": [
            "CountVectorizer(stop_words='english')\n",
            "(1060, 10026)\n"
          ]
        }
      ]
    },
    {
      "cell_type": "markdown",
      "source": [
        "# Question 4: How to make a similarity model between count matrices"
      ],
      "metadata": {
        "id": "1b39e7fvoMAi"
      }
    },
    {
      "cell_type": "code",
      "source": [
        "#Import cosine_similarity\n",
        "from sklearn.metrics.pairwise import cosine_similarity \n",
        "cosine_sim = cosine_similarity(count_matrix, count_matrix)\n",
        "\n",
        "print(cosine_sim) \n"
      ],
      "metadata": {
        "colab": {
          "base_uri": "https://localhost:8080/"
        },
        "id": "KSheWchWoSex",
        "outputId": "98670dbc-8a31-4c14-d931-19d5517e931e"
      },
      "execution_count": 43,
      "outputs": [
        {
          "output_type": "stream",
          "name": "stdout",
          "text": [
            "[[1.         0.15430335 0.35355339 ... 0.         0.         0.13608276]\n",
            " [0.15430335 1.         0.10910895 ... 0.         0.         0.        ]\n",
            " [0.35355339 0.10910895 1.         ... 0.         0.08703883 0.09622504]\n",
            " ...\n",
            " [0.         0.         0.         ... 1.         0.         0.        ]\n",
            " [0.         0.         0.08703883 ... 0.         1.         0.10050378]\n",
            " [0.13608276 0.         0.09622504 ... 0.         0.10050378 1.        ]]\n"
          ]
        }
      ]
    },
    {
      "cell_type": "markdown",
      "source": [
        "# Question 5: How to create a content based recommender system"
      ],
      "metadata": {
        "id": "ApU6WQadoYlb"
      }
    },
    {
      "cell_type": "code",
      "source": [
        "indices = pd.Series(feature_df.index, index=feature_df['title']).drop_duplicates()\n",
        "\n",
        "def content_recommender(title):\n",
        "    #mendapatkan index dari judul film (title) yang disebutkan\n",
        "    idx = indices[title]\n",
        "\n",
        "    #menjadikan list dari array similarity cosine sim \n",
        "    #hint: cosine_sim[idx]\n",
        "    sim_scores = list(enumerate(cosine_sim[idx]))\n",
        "\n",
        "    #mengurutkan film dari similarity tertinggi ke terendah\n",
        "    sim_scores = sorted(sim_scores, key=lambda x: x[1], reverse=True)\n",
        "\n",
        "    #untuk mendapatkan list judul dari item kedua sampe ke 11\n",
        "    sim_scores = sim_scores[1:11]\n",
        "\n",
        "    #mendapatkan index dari judul-judul yang muncul di sim_scores\n",
        "    movie_indices = [i[0] for i in sim_scores]\n",
        "\n",
        "    #dengan menggunakan iloc, kita bisa panggil balik berdasarkan index dari movie_indices\n",
        "    return base_df.iloc[movie_indices]\n",
        "\n",
        "#aplikasikan function di atas\n",
        "print(content_recommender('The Lion King'))"
      ],
      "metadata": {
        "colab": {
          "base_uri": "https://localhost:8080/"
        },
        "id": "KjNRwynsocok",
        "outputId": "a891ac43-fab0-4e7e-e916-85f01a7cd2a0"
      },
      "execution_count": 44,
      "outputs": [
        {
          "output_type": "stream",
          "name": "stdout",
          "text": [
            "     knownForTitles                   cast_name      tconst titleType  \\\n",
            "848       tt3040964  [Cristina Carrión Márquez]   tt3040964     movie   \n",
            "383       tt0286336          [Francisco Bretas]   tt0286336  tvSeries   \n",
            "1002      tt7222086          [Hiroki Matsukawa]   tt7222086  tvSeries   \n",
            "73        tt0075147             [Joaquín Parra]   tt0075147     movie   \n",
            "232       tt0119051            [Chris Kosloski]   tt0119051     movie   \n",
            "556      tt10068158          [Hiroki Matsukawa]  tt10068158     movie   \n",
            "9         tt0028657            [Bernard Loftus]   tt0028657     movie   \n",
            "191       tt0107875               [Simon Mayal]   tt0107875     movie   \n",
            "803       tt2356464               [Sina Müller]   tt2356464     movie   \n",
            "983       tt6270328                   [Jo Boag]   tt6270328  tvSeries   \n",
            "\n",
            "                                         primaryTitle  \\\n",
            "848                                   The Jungle Book   \n",
            "383                      The Animals of Farthing Wood   \n",
            "1002                                    Made in Abyss   \n",
            "73                                   Robin and Marian   \n",
            "232                                          The Edge   \n",
            "556                     Made in Abyss: Journey's Dawn   \n",
            "9                               Boss of Lonely Valley   \n",
            "191                       The Princess and the Goblin   \n",
            "803                                           Ostwind   \n",
            "983   The Skinner Boys: Guardians of the Lost Secrets   \n",
            "\n",
            "                                        originalTitle  isAdult  startYear  \\\n",
            "848                                   The Jungle Book        0     2016.0   \n",
            "383                      The Animals of Farthing Wood        0     1993.0   \n",
            "1002                                    Made in Abyss        0     2017.0   \n",
            "73                                   Robin and Marian        0     1976.0   \n",
            "232                                          The Edge        0     1997.0   \n",
            "556                 Made in Abyss: Tabidachi no Yoake        0     2019.0   \n",
            "9                               Boss of Lonely Valley        0     1937.0   \n",
            "191                       The Princess and the Goblin        0     1991.0   \n",
            "803                                           Ostwind        0     2013.0   \n",
            "983   The Skinner Boys: Guardians of the Lost Secrets        0     2014.0   \n",
            "\n",
            "      endYear  runtimeMinutes                       genres  averageRating  \\\n",
            "848       NaN           106.0       Adventure,Drama,Family            7.4   \n",
            "383    1995.0            25.0    Adventure,Animation,Drama            8.3   \n",
            "1002      NaN           325.0    Adventure,Animation,Drama            8.4   \n",
            "73        NaN           106.0      Adventure,Drama,Romance            6.5   \n",
            "232       NaN           117.0       Action,Adventure,Drama            6.9   \n",
            "556       NaN           139.0  Adventure,Animation,Fantasy            7.4   \n",
            "9         NaN            60.0       Action,Adventure,Drama            6.2   \n",
            "191       NaN            82.0   Adventure,Animation,Comedy            6.8   \n",
            "803       NaN           101.0       Adventure,Drama,Family            6.8   \n",
            "983       NaN            23.0    Adventure,Animation,Drama            7.8   \n",
            "\n",
            "      numVotes                                      director_name  \\\n",
            "848     250994                                      [Jon Favreau]   \n",
            "383       3057             [Elphin Lloyd-Jones, Philippe Leclerc]   \n",
            "1002      4577  [Masayuki Kojima, Hitoshi Haga, Shinya Iino, T...   \n",
            "73       10830                                   [Richard Lester]   \n",
            "232      65673                                     [Lee Tamahori]   \n",
            "556         81                                  [Masayuki Kojima]   \n",
            "9           41                                       [Ray Taylor]   \n",
            "191       2350                                     [József Gémes]   \n",
            "803       1350                                [Katja von Garnier]   \n",
            "983         12        [Pablo De La Torre, Eugene Linkov, Jo Boag]   \n",
            "\n",
            "                                            writer_name  \n",
            "848                     [Justin Marks, Rudyard Kipling]  \n",
            "383   [Valerie Georgeson, Colin Dann, Jenny McDade, ...  \n",
            "1002  [Akihito Tsukushi, Keigo Koyanagi, Hideyuki Ku...  \n",
            "73                                      [James Goldman]  \n",
            "232                                       [David Mamet]  \n",
            "556                                  [Akihito Tsukushi]  \n",
            "9                       [Frances Guihan, Forrest Brown]  \n",
            "191                     [Robin Lyons, George MacDonald]  \n",
            "803          [Kristina Magdalena Henn, Lea Schmidbauer]  \n",
            "983   [David Witt, John Derevlany, David Evans, Pete...  \n"
          ]
        }
      ]
    }
  ]
}